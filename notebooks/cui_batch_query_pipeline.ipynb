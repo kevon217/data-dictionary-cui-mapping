{
 "cells": [
  {
   "cell_type": "markdown",
   "metadata": {},
   "source": [
    "# CUI BATCH QUERY PIPELINE"
   ]
  },
  {
   "cell_type": "markdown",
   "metadata": {},
   "source": [
    "###### INSTALL PACKAGE"
   ]
  },
  {
   "cell_type": "code",
   "execution_count": null,
   "metadata": {
    "jupyter": {
     "outputs_hidden": false
    }
   },
   "outputs": [],
   "source": [
    "#install to get latest version\n",
    "# !pip install git+https://github.com/kevon217/data-dictionary-cui-mapping.git\n",
    "# !pip install data-dictionary-cui-mapping"
   ]
  },
  {
   "cell_type": "markdown",
   "metadata": {},
   "source": [
    "### STEP-1A: RUN BATCH QUERY PIPELINE\n"
   ]
  },
  {
   "cell_type": "markdown",
   "metadata": {},
   "source": [
    "###### IMPORT PACKAGES"
   ]
  },
  {
   "cell_type": "code",
   "execution_count": null,
   "metadata": {},
   "outputs": [],
   "source": [
    "from ddcuimap.umls import batch_query_pipeline as umls_bqp\n",
    "from ddcuimap.metamap import batch_query_pipeline as mm_bqp\n",
    "from ddcuimap.semantic_search import batch_hybrid_query_pipeline as ss_bqp\n",
    "from ddcuimap.hydra_search import batch_hydra_query_pipeline as hs_bqp\n",
    "\n",
    "from ddcuimap.utils import helper\n",
    "from omegaconf import OmegaConf"
   ]
  },
  {
   "cell_type": "markdown",
   "metadata": {},
   "source": [
    "###### LOAD/EDIT CONFIGURATION FILES"
   ]
  },
  {
   "cell_type": "code",
   "execution_count": null,
   "metadata": {
    "jupyter": {
     "outputs_hidden": false
    }
   },
   "outputs": [],
   "source": [
    "cfg_hydra = helper.compose_config(overrides=[\"custom=hydra_base\"])\n",
    "# cfg_umls = helper.compose_config(overrides=[\"custom=de\", \"apis=config_umls_api\"])\n",
    "cfg_mm = helper.compose_config(overrides=[\"custom=de\", \"apis=config_metamap_api\"])\n",
    "cfg_ss = helper.compose_config(\n",
    "    overrides=[\n",
    "        \"custom=title_def\",\n",
    "        \"semantic_search=embeddings\",\n",
    "        \"apis=config_pinecone_api\",\n",
    "    ]\n",
    ")\n",
    "\n",
    "# # UMLS API CREDENTIALS\n",
    "# cfg_umls.apis.umls.user_info.apiKey = ''\n",
    "# cfg_umls.apis.umls.user_info.email = ''\n",
    "\n",
    "# # MetaMap API CREDENTIALS\n",
    "# cfg_mm.apis.metamap.user_info.apiKey = ''\n",
    "# cfg_mm.apis.metamap.user_info.email = ''\n",
    "#\n",
    "# # Pinecone API CREDENTIALS\n",
    "# cfg_ss.apis.pinecone.index_info.apiKey = ''\n",
    "# cfg_ss.apis.pinecone.index_info.environment = ''\n",
    "\n",
    "print(OmegaConf.to_yaml(cfg_hydra))"
   ]
  },
  {
   "cell_type": "markdown",
   "metadata": {},
   "source": [
    "###### RUN BATCH QUERY PIPELINE\n"
   ]
  },
  {
   "cell_type": "code",
   "execution_count": null,
   "metadata": {
    "jupyter": {
     "outputs_hidden": false
    }
   },
   "outputs": [],
   "source": [
    "# df_umls, cfg_umls = umls_bqp.run_umls_batch(cfg_umls)\n",
    "# df_mm, cfg_mm = mm_bqp.run_mm_batch(cfg_mm)\n",
    "# df_ss, cfg_ss = ss_bqp.run_hybrid_ss_batch(cfg_ss)\n",
    "df_hydra, cfg_step1 = hs_bqp.run_hydra_batch(cfg_hydra, cfg_umls=None, cfg_mm=cfg_mm, cfg_ss=cfg_ss)\n",
    "\n",
    "print(df_hydra.head())"
   ]
  },
  {
   "cell_type": "markdown",
   "metadata": {},
   "source": [
    "### STEP-1B: *MANUAL CURATION STEP IN EXCEL\n",
    "*see curation example in ***notebooks/examples_files/DE_Step-1_curation_keepCol.xlsx***"
   ]
  },
  {
   "cell_type": "markdown",
   "metadata": {},
   "source": [
    "### STEP-2A: CREATE DATA DICTIONARY IMPORT FILE"
   ]
  },
  {
   "cell_type": "markdown",
   "metadata": {},
   "source": [
    "###### IMPORT CURATION PACKAGE"
   ]
  },
  {
   "cell_type": "code",
   "execution_count": null,
   "metadata": {
    "tags": []
   },
   "outputs": [],
   "source": [
    "from ddcuimap.curation import create_dictionary_import_file\n",
    "from ddcuimap.curation import check_cuis\n",
    "from ddcuimap.utils import helper"
   ]
  },
  {
   "cell_type": "markdown",
   "metadata": {},
   "source": [
    "###### CREATE DATA DICTIONARY IMPORT FILE"
   ]
  },
  {
   "cell_type": "code",
   "execution_count": null,
   "metadata": {
    "tags": []
   },
   "outputs": [],
   "source": [
    "cfg_step1 = helper.load_config(helper.choose_file(\"Load config file from Step 1\"))\n",
    "df_dd = create_dictionary_import_file.create_dd_file(cfg_step1)\n",
    "print(df_dd.head())"
   ]
  },
  {
   "cell_type": "markdown",
   "metadata": {},
   "source": [
    "#### STEP-2B: CHECK CUIS IN DATA DICTIONARY IMPORT FILE"
   ]
  },
  {
   "cell_type": "code",
   "execution_count": null,
   "metadata": {},
   "outputs": [],
   "source": [
    "cfg_step2 = helper.load_config(helper.choose_file(\"Load config file from Step 2\"))\n",
    "df_check = check_cuis.check_cuis(cfg_step2)\n",
    "print(df_check.head())"
   ]
  }
 ],
 "metadata": {
  "kernelspec": {
   "display_name": "Python 3 (ipykernel)",
   "language": "python",
   "name": "python3"
  },
  "language_info": {
   "codemirror_mode": {
    "name": "ipython",
    "version": 3
   },
   "file_extension": ".py",
   "mimetype": "text/x-python",
   "name": "python",
   "nbconvert_exporter": "python",
   "pygments_lexer": "ipython3",
   "version": "3.9.13"
  }
 },
 "nbformat": 4,
 "nbformat_minor": 4
}
