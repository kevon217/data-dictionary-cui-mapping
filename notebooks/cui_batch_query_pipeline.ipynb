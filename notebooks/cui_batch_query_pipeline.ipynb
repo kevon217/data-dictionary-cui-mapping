{
 "cells": [
  {
   "cell_type": "markdown",
   "metadata": {},
   "source": [
    "# CUI BATCH QUERY PIPELINE"
   ]
  },
  {
   "cell_type": "markdown",
   "source": [
    "###### INSTALL PACKAGE"
   ],
   "metadata": {
    "collapsed": false
   }
  },
  {
   "cell_type": "code",
   "execution_count": 15,
   "metadata": {
    "jupyter": {
     "outputs_hidden": false
    },
    "ExecuteTime": {
     "end_time": "2023-05-17T15:29:08.450780500Z",
     "start_time": "2023-05-17T15:29:08.441535900Z"
    }
   },
   "outputs": [],
   "source": [
    "#install to get latest version\n",
    "# !pip install git+https://github.com/kevon217/data-dictionary-cui-mapping.git\n",
    "# !pip install data-dictionary-cui-mapping"
   ]
  },
  {
   "cell_type": "markdown",
   "source": [
    "### STEP-1A: RUN BATCH QUERY PIPELINE\n"
   ],
   "metadata": {
    "collapsed": false
   }
  },
  {
   "cell_type": "markdown",
   "source": [
    "###### IMPORT PACKAGES"
   ],
   "metadata": {
    "collapsed": false
   }
  },
  {
   "cell_type": "code",
   "execution_count": 17,
   "metadata": {
    "ExecuteTime": {
     "end_time": "2023-05-17T16:22:35.991517600Z",
     "start_time": "2023-05-17T16:22:35.977749700Z"
    }
   },
   "outputs": [],
   "source": [
    "from ddcuimap.umls import batch_query_pipeline as umls_bqp\n",
    "from ddcuimap.metamap import batch_query_pipeline as mm_bqp\n",
    "from ddcuimap.semantic_search import batch_hybrid_query_pipeline as ss_bqp\n",
    "from ddcuimap.hydra_search import batch_hydra_query_pipeline as hs_bqp\n",
    "\n",
    "from ddcuimap.utils import helper\n",
    "from omegaconf import OmegaConf"
   ]
  },
  {
   "cell_type": "markdown",
   "metadata": {},
   "source": [
    "###### LOAD/EDIT CONFIGURATION FILES"
   ]
  },
  {
   "cell_type": "code",
   "execution_count": 18,
   "metadata": {
    "jupyter": {
     "outputs_hidden": false
    },
    "ExecuteTime": {
     "end_time": "2023-05-17T16:22:39.495474300Z",
     "start_time": "2023-05-17T16:22:38.739120500Z"
    }
   },
   "outputs": [
    {
     "name": "stdout",
     "output_type": "stream",
     "text": [
      "apis:\n",
      "  umls:\n",
      "    user_info:\n",
      "      email: null\n",
      "      apiKey: null\n",
      "    api_settings:\n",
      "      url: https://utslogin.nlm.nih.gov/cas/v1/api-key\n",
      "      uri: https://uts-ws.nlm.nih.gov\n",
      "      version: current\n",
      "      content_endpoint: /rest/search/current\n",
      "      fullpath: https://uts-ws.nlm.nih.gov/rest/search/current\n",
      "      payload: {}\n",
      "      headers: {}\n",
      "      sabs: []\n",
      "      searchType1: exact\n",
      "      searchType2: normalizedWords\n",
      "      pageSize: 20\n",
      "      pages_max: 1\n",
      "    query_params:\n",
      "      apiKey: null\n",
      "      string: {}\n",
      "      searchType: exact\n",
      "      sabs: []\n",
      "      pageSize: 20\n",
      "      pageNumber: {}\n",
      "  metamap:\n",
      "    user_info:\n",
      "      email: null\n",
      "      apiKey: null\n",
      "    api_settings:\n",
      "      serverurl: https://utslogin.nlm.nih.gov/cas/v1/tickets\n",
      "      tgtserverurl: https://utslogin.nlm.nih.gov/cas/v1/api-key\n",
      "      serviceurl: https://ii.nlm.nih.gov/cgi-bin/II/UTS_Required/API_batchValidationII.pl\n",
      "      cmd: metamap\n",
      "      cmdargs:\n",
      "        mm_data_year: -Z 2020AB\n",
      "        mm_data_version: -V USAbase\n",
      "        strict_model: -A\n",
      "        show_candidates: -c\n",
      "        show_cuis: -I\n",
      "        ignore_word_order: -i\n",
      "        restrict to sources: -R NCI\n",
      "        sources: -G\n",
      "        composite phrases: -Q 4\n",
      "        term_processing: -z\n",
      "        word_sense_disambiguation: -y\n",
      "        formatted_json_output: --JSONf 2\n",
      "    output_settings:\n",
      "      columns:\n",
      "      - CandidateScore\n",
      "      - CandidateCUI\n",
      "      - CandidateMatched\n",
      "      - CandidatePreferred\n",
      "      - MatchedWords\n",
      "      - SemTypes\n",
      "      - MatchMaps\n",
      "      - IsHead\n",
      "      - IsOverMatch\n",
      "      - Sources\n",
      "      - ConceptPIs\n",
      "      - Status\n",
      "      - Negated\n",
      "  pinecone:\n",
      "    index_info:\n",
      "      apiKey: null\n",
      "      environment: null\n",
      "custom:\n",
      "  settings:\n",
      "    custom_config: hydra\n",
      "    pipeline_name: null\n",
      "  data_dictionary_settings:\n",
      "    filepath: null\n",
      "    variable_column: variable name\n",
      "    query_term_columns:\n",
      "    - title\n",
      "    - definition\n",
      "    explode: false\n",
      "    column_sep: '|'\n",
      "    search_all_query_terms: false\n",
      "  preprocessing_settings:\n",
      "    remove_stopwords: null\n",
      "    stopwords_filepath: null\n",
      "    use_cheatsheet: null\n",
      "    cheatsheet_filepath: null\n",
      "  curation_settings:\n",
      "    information_columns:\n",
      "    - variable name\n",
      "    - title\n",
      "    - definition\n",
      "    - permissible values\n",
      "    - permissible value descriptions\n",
      "    - preferred question text\n",
      "    query_columns:\n",
      "    - variable name\n",
      "    - search_ID\n",
      "    - query_term_used\n",
      "    - query_term_used_col\n",
      "    - searchType\n",
      "    result_columns:\n",
      "    - recCount\n",
      "    - data element concept names\n",
      "    - data element concept identifiers\n",
      "    - data element terminology sources\n",
      "    file_settings:\n",
      "      directory_prefix: DE\n",
      "      file_prefix: DE\n",
      "      excel:\n",
      "        sheet_names:\n",
      "          sheet1: UMLS_curation\n",
      "          sheet2: Data_Dictionary\n",
      "          sheet3: Data_Dictionary_extracted\n",
      "        hide_cols_curation:\n",
      "        - PMID\n",
      "        - MatchMaps\n",
      "        - IsHead\n",
      "        - IsOverMatch\n",
      "        - ConceptPIs\n",
      "        - Status\n",
      "        - Negated\n",
      "        - title_extracted_dense_vecs\n",
      "        - title_extracted_sparse_vecs_upsert\n",
      "        - title_extracted_sparse_vecs_idx2token\n",
      "        - definition_extracted_dense_vecs\n",
      "        - definition_extracted_sparse_vecs_upsert\n",
      "        - definition_extracted_sparse_vecs_idx2token\n",
      "        - title_extracted_tokens\n",
      "        - definition_extracted_tokens\n",
      "        order_cols_curation:\n",
      "        - variable name\n",
      "        - title\n",
      "        - definition\n",
      "        - permissible values\n",
      "        - permissible value descriptions\n",
      "        - preferred question text\n",
      "        - pipeline_name\n",
      "        - pipeline_name_alpha\n",
      "        - search_ID\n",
      "        - query_term_1\n",
      "        - query_term_stopwords_removed_1\n",
      "        - query_term_2\n",
      "        - query_term_stopwords_removed_2\n",
      "        - query_term_used\n",
      "        - query_term_used_col\n",
      "        - searchType\n",
      "        - MetaMap_input\n",
      "        - PMID\n",
      "        - CandidateScore\n",
      "        - CandidateMatched\n",
      "        - MatchedWords\n",
      "        - SemTypes\n",
      "        - MatchMaps\n",
      "        - IsHead\n",
      "        - IsOverMatch\n",
      "        - ConceptPIs\n",
      "        - Status\n",
      "        - Negated\n",
      "        - title_extracted\n",
      "        - definition_extracted\n",
      "        - recCount\n",
      "        - overall_rank\n",
      "        - data element concept names\n",
      "        - data element concept identifiers\n",
      "        - data element terminology sources\n",
      "        - title_extracted_dense_vecs\n",
      "        - title_extracted_sparse_vecs_upsert\n",
      "        - title_extracted_sparse_vecs_idx2token\n",
      "        - definition_extracted_dense_vecs\n",
      "        - definition_extracted_sparse_vecs_upsert\n",
      "        - definition_extracted_sparse_vecs_idx2token\n",
      "        - title_extracted_tokens\n",
      "        - definition_extracted_tokens\n",
      "        - metadata\n",
      "        - result_id\n",
      "        - semantic_type\n",
      "        - definition_source\n",
      "        - overall_count\n",
      "        - average_score\n",
      "        - title_str_rank\n",
      "        - title_str_score\n",
      "        - definition_def_rank\n",
      "        - definition_def_score\n",
      "        - keep\n",
      "        format_cols_curation: null\n",
      "  create_dictionary_import_settings:\n",
      "    curation_file_path: null\n",
      "    umls_columns:\n",
      "    - data element concept names\n",
      "    - data element concept identifiers\n",
      "    - data element terminology sources\n",
      "    join_on:\n",
      "    - variable name\n",
      "    - title_extracted\n",
      "    cui_sep: '|'\n",
      "    multi_cui_sep: /\n",
      "    override:\n",
      "      sep: '|'\n",
      "      columns:\n",
      "      - data element terminology sources\n",
      "      value: UMLS\n",
      "    dict_file_path: null\n",
      "    dict_file_type: csv\n",
      "    dictionary_columns:\n",
      "    - variable name\n",
      "    - title\n",
      "    - element type\n",
      "    - definition\n",
      "    - short description\n",
      "    - datatype\n",
      "    - maximum character quantity\n",
      "    - input restriction\n",
      "    - minimum value\n",
      "    - maximum value\n",
      "    - data element concept names\n",
      "    - data element concept identifiers\n",
      "    - data element terminology sources\n",
      "    - permissible values\n",
      "    - permissible value descriptions\n",
      "    - permissible value output codes\n",
      "    - permissible value concept names\n",
      "    - permissible value concept identifiers\n",
      "    - permissible value terminology sources\n",
      "    - unit of measure\n",
      "    - guidelines/instructions\n",
      "    - notes\n",
      "    - preferred question text\n",
      "    - keywords\n",
      "    - references\n",
      "    - historical notes\n",
      "    - see also\n",
      "    - effective date\n",
      "    - until date\n",
      "    - population.all\n",
      "    - domain.general (for all diseases)\n",
      "    - domain.traumatic brain injury\n",
      "    - domain.Parkinson's disease\n",
      "    - domain.Friedreich's ataxia\n",
      "    - domain.stroke\n",
      "    - domain.amyotrophic lateral sclerosis\n",
      "    - domain.Huntington's disease\n",
      "    - domain.multiple sclerosis\n",
      "    - domain.neuromuscular diseases\n",
      "    - domain.myasthenia gravis\n",
      "    - domain.spinal muscular atrophy\n",
      "    - domain.Duchenne muscular dystrophy/Becker muscular dystrophy\n",
      "    - domain.congenital muscular dystrophy\n",
      "    - domain.spinal cord injury\n",
      "    - domain.headache\n",
      "    - domain.epilepsy\n",
      "    - classification.general (for all diseases)\n",
      "    - classification.acute hospitalized\n",
      "    - classification.concussion/mild TBI\n",
      "    - classification.epidemiology\n",
      "    - 'classification.moderate/severe TBI: rehabilitation'\n",
      "    - classification.Parkinson's disease\n",
      "    - classification.Friedreich's ataxia\n",
      "    - classification.stroke\n",
      "    - classification.amyotrophic lateral sclerosis\n",
      "    - classification.Huntington's disease\n",
      "    - classification.multiple sclerosis\n",
      "    - classification.neuromuscular diseases\n",
      "    - classification.myasthenia gravis\n",
      "    - classification.spinal muscular atrophy\n",
      "    - classification.Duchenne muscular dystrophy/Becker muscular dystrophy\n",
      "    - classification.congenital muscular dystrophy\n",
      "    - classification.spinal cord injury\n",
      "    - classification.headache\n",
      "    - classification.epilepsy\n",
      "    - Label(s)\n",
      "    - submitting organization name\n",
      "    - submitting contact name\n",
      "    - submitting contact information\n",
      "    - steward organization name\n",
      "    - steward contact name\n",
      "    - steward contact information\n",
      "    check_cuis:\n",
      "      de:\n",
      "        reference_column: variable name\n",
      "        check_columns:\n",
      "        - data element concept names\n",
      "        - data element concept identifiers\n",
      "        - data element terminology sources\n",
      "      pvd:\n",
      "        reference_column: permissible value descriptions\n",
      "        check_columns:\n",
      "        - permissible value concept names\n",
      "        - permissible value concept identifiers\n",
      "        - permissible value terminology sources\n",
      "\n"
     ]
    }
   ],
   "source": [
    "cfg_hydra = helper.compose_config.fn(overrides=[\"custom=hydra_base\"])\n",
    "# cfg_umls = helper.compose_config.fn(overrides=[\"custom=de\", \"apis=config_umls_api\"])\n",
    "cfg_mm = helper.compose_config.fn(overrides=[\"custom=de\", \"apis=config_metamap_api\"])\n",
    "cfg_ss = helper.compose_config.fn(\n",
    "    overrides=[\n",
    "        \"custom=title_def\",\n",
    "        \"semantic_search=embeddings\",\n",
    "        \"apis=config_pinecone_api\",\n",
    "    ]\n",
    ")\n",
    "\n",
    "# # UMLS API CREDENTIALS\n",
    "# cfg_umls.apis.umls.user_info.apiKey = ''\n",
    "# cfg_umls.apis.umls.user_info.email = ''\n",
    "\n",
    "# # MetaMap API CREDENTIALS\n",
    "# cfg_mm.apis.metamap.user_info.apiKey = ''\n",
    "# cfg_mm.apis.metamap.user_info.email = ''\n",
    "#\n",
    "# # Pinecone API CREDENTIALS\n",
    "# cfg_ss.apis.pinecone.index_info.apiKey = ''\n",
    "# cfg_ss.apis.pinecone.index_info.environment = ''\n",
    "\n",
    "print(OmegaConf.to_yaml(cfg_hydra))"
   ]
  },
  {
   "cell_type": "markdown",
   "metadata": {},
   "source": [
    "###### RUN BATCH QUERY PIPELINE\n"
   ]
  },
  {
   "cell_type": "code",
   "execution_count": 19,
   "metadata": {
    "jupyter": {
     "outputs_hidden": false
    },
    "ExecuteTime": {
     "end_time": "2023-05-17T16:23:53.509772500Z",
     "start_time": "2023-05-17T16:22:43.714034500Z"
    }
   },
   "outputs": [
    {
     "data": {
      "text/plain": "12:22:43.890 | \u001B[36mINFO\u001B[0m    | prefect.engine - Created flow run\u001B[35m 'elite-skunk'\u001B[0m for flow\u001B[1;35m 'run-hydra-batch'\u001B[0m\n",
      "text/html": "<pre style=\"white-space:pre;overflow-x:auto;line-height:normal;font-family:Menlo,'DejaVu Sans Mono',consolas,'Courier New',monospace\">12:22:43.890 | <span style=\"color: #008080; text-decoration-color: #008080\">INFO</span>    | prefect.engine - Created flow run<span style=\"color: #800080; text-decoration-color: #800080\"> 'elite-skunk'</span> for flow<span style=\"color: #800080; text-decoration-color: #800080; font-weight: bold\"> 'run-hydra-batch'</span>\n</pre>\n"
     },
     "metadata": {},
     "output_type": "display_data"
    },
    {
     "data": {
      "text/plain": "12:22:44.180 | \u001B[36mINFO\u001B[0m    | Flow run\u001B[35m '\u001B[0m\u001B[35mRunning\u001B[0m\u001B[35m UMLS/MetaMap/Semantic Search hydra search pipeline'\u001B[0m - Created task run 'Loading data dictionary file-0' for task 'Loading data dictionary file'\n",
      "text/html": "<pre style=\"white-space:pre;overflow-x:auto;line-height:normal;font-family:Menlo,'DejaVu Sans Mono',consolas,'Courier New',monospace\">12:22:44.180 | <span style=\"color: #008080; text-decoration-color: #008080\">INFO</span>    | Flow run<span style=\"color: #800080; text-decoration-color: #800080\"> 'Running UMLS/MetaMap/Semantic Search hydra search pipeline'</span> - Created task run 'Loading data dictionary file-0' for task 'Loading data dictionary file'\n</pre>\n"
     },
     "metadata": {},
     "output_type": "display_data"
    },
    {
     "data": {
      "text/plain": "12:22:44.182 | \u001B[36mINFO\u001B[0m    | Flow run\u001B[35m '\u001B[0m\u001B[35mRunning\u001B[0m\u001B[35m UMLS/MetaMap/Semantic Search hydra search pipeline'\u001B[0m - Executing 'Loading data dictionary file-0' immediately...\n",
      "text/html": "<pre style=\"white-space:pre;overflow-x:auto;line-height:normal;font-family:Menlo,'DejaVu Sans Mono',consolas,'Courier New',monospace\">12:22:44.182 | <span style=\"color: #008080; text-decoration-color: #008080\">INFO</span>    | Flow run<span style=\"color: #800080; text-decoration-color: #800080\"> 'Running UMLS/MetaMap/Semantic Search hydra search pipeline'</span> - Executing 'Loading data dictionary file-0' immediately...\n</pre>\n"
     },
     "metadata": {},
     "output_type": "display_data"
    },
    {
     "data": {
      "text/plain": "12:22:48.281 | \u001B[36mINFO\u001B[0m    | Task run 'Loading data dictionary file-0' - File chosen: C:/Users/armengolkm/Desktop/Full Pipeline Test v1.1.0/Hydra_Search/Main_FA_FITBIR_CDE_3-DE_2-PV.csv\n",
      "text/html": "<pre style=\"white-space:pre;overflow-x:auto;line-height:normal;font-family:Menlo,'DejaVu Sans Mono',consolas,'Courier New',monospace\">12:22:48.281 | <span style=\"color: #008080; text-decoration-color: #008080\">INFO</span>    | Task run 'Loading data dictionary file-0' - File chosen: C:/Users/armengolkm/Desktop/Full Pipeline Test v1.1.0/Hydra_Search/Main_FA_FITBIR_CDE_3-DE_2-PV.csv\n</pre>\n"
     },
     "metadata": {},
     "output_type": "display_data"
    },
    {
     "data": {
      "text/plain": "12:22:48.290 | \u001B[36mINFO\u001B[0m    | Task run 'Loading data dictionary file-0' - Data Dictionary shape is: (3, 80)\n",
      "text/html": "<pre style=\"white-space:pre;overflow-x:auto;line-height:normal;font-family:Menlo,'DejaVu Sans Mono',consolas,'Courier New',monospace\">12:22:48.290 | <span style=\"color: #008080; text-decoration-color: #008080\">INFO</span>    | Task run 'Loading data dictionary file-0' - Data Dictionary shape is: (3, 80)\n</pre>\n"
     },
     "metadata": {},
     "output_type": "display_data"
    },
    {
     "data": {
      "text/plain": "12:22:48.319 | \u001B[36mINFO\u001B[0m    | Task run 'Loading data dictionary file-0' - Finished in state \u001B[32mCompleted\u001B[0m()\n",
      "text/html": "<pre style=\"white-space:pre;overflow-x:auto;line-height:normal;font-family:Menlo,'DejaVu Sans Mono',consolas,'Courier New',monospace\">12:22:48.319 | <span style=\"color: #008080; text-decoration-color: #008080\">INFO</span>    | Task run 'Loading data dictionary file-0' - Finished in state <span style=\"color: #008000; text-decoration-color: #008000\">Completed</span>()\n</pre>\n"
     },
     "metadata": {},
     "output_type": "display_data"
    },
    {
     "data": {
      "text/plain": "12:22:48.321 | \u001B[36mINFO\u001B[0m    | Flow run\u001B[35m '\u001B[0m\u001B[35mRunning\u001B[0m\u001B[35m UMLS/MetaMap/Semantic Search hydra search pipeline'\u001B[0m - Folder created: C:\\Users\\armengolkm\\Desktop\\Full Pipeline Test v1.1.0\\Hydra_Search\\DE_Step-1_Hydra-search (8)\n",
      "text/html": "<pre style=\"white-space:pre;overflow-x:auto;line-height:normal;font-family:Menlo,'DejaVu Sans Mono',consolas,'Courier New',monospace\">12:22:48.321 | <span style=\"color: #008080; text-decoration-color: #008080\">INFO</span>    | Flow run<span style=\"color: #800080; text-decoration-color: #800080\"> 'Running UMLS/MetaMap/Semantic Search hydra search pipeline'</span> - Folder created: C:\\Users\\armengolkm\\Desktop\\Full Pipeline Test v1.1.0\\Hydra_Search\\DE_Step-1_Hydra-search (8)\n</pre>\n"
     },
     "metadata": {},
     "output_type": "display_data"
    },
    {
     "data": {
      "text/plain": "12:22:48.364 | \u001B[36mINFO\u001B[0m    | Flow run\u001B[35m '\u001B[0m\u001B[35mRunning\u001B[0m\u001B[35m UMLS/MetaMap/Semantic Search hydra search pipeline'\u001B[0m - Created task run 'Creating new folder-0' for task 'Creating new folder'\n",
      "text/html": "<pre style=\"white-space:pre;overflow-x:auto;line-height:normal;font-family:Menlo,'DejaVu Sans Mono',consolas,'Courier New',monospace\">12:22:48.364 | <span style=\"color: #008080; text-decoration-color: #008080\">INFO</span>    | Flow run<span style=\"color: #800080; text-decoration-color: #800080\"> 'Running UMLS/MetaMap/Semantic Search hydra search pipeline'</span> - Created task run 'Creating new folder-0' for task 'Creating new folder'\n</pre>\n"
     },
     "metadata": {},
     "output_type": "display_data"
    },
    {
     "data": {
      "text/plain": "12:22:48.367 | \u001B[36mINFO\u001B[0m    | Flow run\u001B[35m '\u001B[0m\u001B[35mRunning\u001B[0m\u001B[35m UMLS/MetaMap/Semantic Search hydra search pipeline'\u001B[0m - Executing 'Creating new folder-0' immediately...\n",
      "text/html": "<pre style=\"white-space:pre;overflow-x:auto;line-height:normal;font-family:Menlo,'DejaVu Sans Mono',consolas,'Courier New',monospace\">12:22:48.367 | <span style=\"color: #008080; text-decoration-color: #008080\">INFO</span>    | Flow run<span style=\"color: #800080; text-decoration-color: #800080\"> 'Running UMLS/MetaMap/Semantic Search hydra search pipeline'</span> - Executing 'Creating new folder-0' immediately...\n</pre>\n"
     },
     "metadata": {},
     "output_type": "display_data"
    },
    {
     "data": {
      "text/plain": "12:22:48.436 | \u001B[36mINFO\u001B[0m    | Task run 'Creating new folder-0' - Folder created: C:\\Users\\armengolkm\\Desktop\\Full Pipeline Test v1.1.0\\Hydra_Search\\DE_Step-1_Hydra-search (8)\\DE_Step-1_metamap-search\n",
      "text/html": "<pre style=\"white-space:pre;overflow-x:auto;line-height:normal;font-family:Menlo,'DejaVu Sans Mono',consolas,'Courier New',monospace\">12:22:48.436 | <span style=\"color: #008080; text-decoration-color: #008080\">INFO</span>    | Task run 'Creating new folder-0' - Folder created: C:\\Users\\armengolkm\\Desktop\\Full Pipeline Test v1.1.0\\Hydra_Search\\DE_Step-1_Hydra-search (8)\\DE_Step-1_metamap-search\n</pre>\n"
     },
     "metadata": {},
     "output_type": "display_data"
    },
    {
     "data": {
      "text/plain": "12:22:48.466 | \u001B[36mINFO\u001B[0m    | Task run 'Creating new folder-0' - Finished in state \u001B[32mCompleted\u001B[0m()\n",
      "text/html": "<pre style=\"white-space:pre;overflow-x:auto;line-height:normal;font-family:Menlo,'DejaVu Sans Mono',consolas,'Courier New',monospace\">12:22:48.466 | <span style=\"color: #008080; text-decoration-color: #008080\">INFO</span>    | Task run 'Creating new folder-0' - Finished in state <span style=\"color: #008000; text-decoration-color: #008000\">Completed</span>()\n</pre>\n"
     },
     "metadata": {},
     "output_type": "display_data"
    },
    {
     "data": {
      "text/plain": "12:22:48.583 | \u001B[36mINFO\u001B[0m    | Flow run\u001B[35m '\u001B[0m\u001B[35mRunning\u001B[0m\u001B[35m UMLS/MetaMap/Semantic Search hydra search pipeline'\u001B[0m - Created subflow run\u001B[35m 'curly-frigatebird'\u001B[0m for flow\u001B[1;35m 'run-mm-batch'\u001B[0m\n",
      "text/html": "<pre style=\"white-space:pre;overflow-x:auto;line-height:normal;font-family:Menlo,'DejaVu Sans Mono',consolas,'Courier New',monospace\">12:22:48.583 | <span style=\"color: #008080; text-decoration-color: #008080\">INFO</span>    | Flow run<span style=\"color: #800080; text-decoration-color: #800080\"> 'Running UMLS/MetaMap/Semantic Search hydra search pipeline'</span> - Created subflow run<span style=\"color: #800080; text-decoration-color: #800080\"> 'curly-frigatebird'</span> for flow<span style=\"color: #800080; text-decoration-color: #800080; font-weight: bold\"> 'run-mm-batch'</span>\n</pre>\n"
     },
     "metadata": {},
     "output_type": "display_data"
    },
    {
     "data": {
      "text/plain": "12:22:48.706 | \u001B[36mINFO\u001B[0m    | Flow run\u001B[35m 'MetaMap search - batch_query_pipeline'\u001B[0m - Created task run 'Checking MetaMap UMLS API credentials in config files or .env file-0' for task 'Checking MetaMap UMLS API credentials in config files or .env file'\n",
      "text/html": "<pre style=\"white-space:pre;overflow-x:auto;line-height:normal;font-family:Menlo,'DejaVu Sans Mono',consolas,'Courier New',monospace\">12:22:48.706 | <span style=\"color: #008080; text-decoration-color: #008080\">INFO</span>    | Flow run<span style=\"color: #800080; text-decoration-color: #800080\"> 'MetaMap search - batch_query_pipeline'</span> - Created task run 'Checking MetaMap UMLS API credentials in config files or .env file-0' for task 'Checking MetaMap UMLS API credentials in config files or .env file'\n</pre>\n"
     },
     "metadata": {},
     "output_type": "display_data"
    },
    {
     "data": {
      "text/plain": "12:22:48.707 | \u001B[36mINFO\u001B[0m    | Flow run\u001B[35m 'MetaMap search - batch_query_pipeline'\u001B[0m - Executing 'Checking MetaMap UMLS API credentials in config files or .env file-0' immediately...\n",
      "text/html": "<pre style=\"white-space:pre;overflow-x:auto;line-height:normal;font-family:Menlo,'DejaVu Sans Mono',consolas,'Courier New',monospace\">12:22:48.707 | <span style=\"color: #008080; text-decoration-color: #008080\">INFO</span>    | Flow run<span style=\"color: #800080; text-decoration-color: #800080\"> 'MetaMap search - batch_query_pipeline'</span> - Executing 'Checking MetaMap UMLS API credentials in config files or .env file-0' immediately...\n</pre>\n"
     },
     "metadata": {},
     "output_type": "display_data"
    },
    {
     "data": {
      "text/plain": "12:22:48.765 | \u001B[36mINFO\u001B[0m    | Task run 'Checking MetaMap UMLS API credentials in config files or .env file-0' - No API_KEY_UMLS found in config files. Looking in .env file.\n",
      "text/html": "<pre style=\"white-space:pre;overflow-x:auto;line-height:normal;font-family:Menlo,'DejaVu Sans Mono',consolas,'Courier New',monospace\">12:22:48.765 | <span style=\"color: #008080; text-decoration-color: #008080\">INFO</span>    | Task run 'Checking MetaMap UMLS API credentials in config files or .env file-0' - No API_KEY_UMLS found in config files. Looking in .env file.\n</pre>\n"
     },
     "metadata": {},
     "output_type": "display_data"
    },
    {
     "data": {
      "text/plain": "12:22:48.769 | \u001B[36mINFO\u001B[0m    | Task run 'Checking MetaMap UMLS API credentials in config files or .env file-0' - Using API_KEY_UMLS found in .env file.\n",
      "text/html": "<pre style=\"white-space:pre;overflow-x:auto;line-height:normal;font-family:Menlo,'DejaVu Sans Mono',consolas,'Courier New',monospace\">12:22:48.769 | <span style=\"color: #008080; text-decoration-color: #008080\">INFO</span>    | Task run 'Checking MetaMap UMLS API credentials in config files or .env file-0' - Using API_KEY_UMLS found in .env file.\n</pre>\n"
     },
     "metadata": {},
     "output_type": "display_data"
    },
    {
     "data": {
      "text/plain": "12:22:48.771 | \u001B[36mINFO\u001B[0m    | Task run 'Checking MetaMap UMLS API credentials in config files or .env file-0' - No API_EMAIL_UMLS found in config files. Looking in .env file.\n",
      "text/html": "<pre style=\"white-space:pre;overflow-x:auto;line-height:normal;font-family:Menlo,'DejaVu Sans Mono',consolas,'Courier New',monospace\">12:22:48.771 | <span style=\"color: #008080; text-decoration-color: #008080\">INFO</span>    | Task run 'Checking MetaMap UMLS API credentials in config files or .env file-0' - No API_EMAIL_UMLS found in config files. Looking in .env file.\n</pre>\n"
     },
     "metadata": {},
     "output_type": "display_data"
    },
    {
     "data": {
      "text/plain": "12:22:48.773 | \u001B[36mINFO\u001B[0m    | Task run 'Checking MetaMap UMLS API credentials in config files or .env file-0' - Using API_EMAIL_UMLS found in .env file.\n",
      "text/html": "<pre style=\"white-space:pre;overflow-x:auto;line-height:normal;font-family:Menlo,'DejaVu Sans Mono',consolas,'Courier New',monospace\">12:22:48.773 | <span style=\"color: #008080; text-decoration-color: #008080\">INFO</span>    | Task run 'Checking MetaMap UMLS API credentials in config files or .env file-0' - Using API_EMAIL_UMLS found in .env file.\n</pre>\n"
     },
     "metadata": {},
     "output_type": "display_data"
    },
    {
     "data": {
      "text/plain": "12:22:48.808 | \u001B[36mINFO\u001B[0m    | Task run 'Checking MetaMap UMLS API credentials in config files or .env file-0' - Finished in state \u001B[32mCompleted\u001B[0m()\n",
      "text/html": "<pre style=\"white-space:pre;overflow-x:auto;line-height:normal;font-family:Menlo,'DejaVu Sans Mono',consolas,'Courier New',monospace\">12:22:48.808 | <span style=\"color: #008080; text-decoration-color: #008080\">INFO</span>    | Task run 'Checking MetaMap UMLS API credentials in config files or .env file-0' - Finished in state <span style=\"color: #008000; text-decoration-color: #008000\">Completed</span>()\n</pre>\n"
     },
     "metadata": {},
     "output_type": "display_data"
    },
    {
     "data": {
      "text/plain": "12:22:48.930 | \u001B[36mINFO\u001B[0m    | Flow run\u001B[35m 'MetaMap search - batch_query_pipeline'\u001B[0m - Created subflow run\u001B[35m 'inquisitive-binturong'\u001B[0m for flow\u001B[1;35m 'process-data-dictionary'\u001B[0m\n",
      "text/html": "<pre style=\"white-space:pre;overflow-x:auto;line-height:normal;font-family:Menlo,'DejaVu Sans Mono',consolas,'Courier New',monospace\">12:22:48.930 | <span style=\"color: #008080; text-decoration-color: #008080\">INFO</span>    | Flow run<span style=\"color: #800080; text-decoration-color: #800080\"> 'MetaMap search - batch_query_pipeline'</span> - Created subflow run<span style=\"color: #800080; text-decoration-color: #800080\"> 'inquisitive-binturong'</span> for flow<span style=\"color: #800080; text-decoration-color: #800080; font-weight: bold\"> 'process-data-dictionary'</span>\n</pre>\n"
     },
     "metadata": {},
     "output_type": "display_data"
    },
    {
     "data": {
      "text/plain": "12:22:49.046 | \u001B[36mINFO\u001B[0m    | Flow run\u001B[35m 'Preprocessing data dictionary'\u001B[0m - Cheatsheet not used\n",
      "text/html": "<pre style=\"white-space:pre;overflow-x:auto;line-height:normal;font-family:Menlo,'DejaVu Sans Mono',consolas,'Courier New',monospace\">12:22:49.046 | <span style=\"color: #008080; text-decoration-color: #008080\">INFO</span>    | Flow run<span style=\"color: #800080; text-decoration-color: #800080\"> 'Preprocessing data dictionary'</span> - Cheatsheet not used\n</pre>\n"
     },
     "metadata": {},
     "output_type": "display_data"
    },
    {
     "data": {
      "text/plain": "12:22:49.079 | \u001B[36mINFO\u001B[0m    | Flow run\u001B[35m 'Preprocessing data dictionary'\u001B[0m - Created task run 'Exploding values in columns to query with-0' for task 'Exploding values in columns to query with'\n",
      "text/html": "<pre style=\"white-space:pre;overflow-x:auto;line-height:normal;font-family:Menlo,'DejaVu Sans Mono',consolas,'Courier New',monospace\">12:22:49.079 | <span style=\"color: #008080; text-decoration-color: #008080\">INFO</span>    | Flow run<span style=\"color: #800080; text-decoration-color: #800080\"> 'Preprocessing data dictionary'</span> - Created task run 'Exploding values in columns to query with-0' for task 'Exploding values in columns to query with'\n</pre>\n"
     },
     "metadata": {},
     "output_type": "display_data"
    },
    {
     "data": {
      "text/plain": "12:22:49.081 | \u001B[36mINFO\u001B[0m    | Flow run\u001B[35m 'Preprocessing data dictionary'\u001B[0m - Executing 'Exploding values in columns to query with-0' immediately...\n",
      "text/html": "<pre style=\"white-space:pre;overflow-x:auto;line-height:normal;font-family:Menlo,'DejaVu Sans Mono',consolas,'Courier New',monospace\">12:22:49.081 | <span style=\"color: #008080; text-decoration-color: #008080\">INFO</span>    | Flow run<span style=\"color: #800080; text-decoration-color: #800080\"> 'Preprocessing data dictionary'</span> - Executing 'Exploding values in columns to query with-0' immediately...\n</pre>\n"
     },
     "metadata": {},
     "output_type": "display_data"
    },
    {
     "data": {
      "text/plain": "12:22:49.176 | \u001B[36mINFO\u001B[0m    | Task run 'Exploding values in columns to query with-0' - Finished in state \u001B[32mCompleted\u001B[0m()\n",
      "text/html": "<pre style=\"white-space:pre;overflow-x:auto;line-height:normal;font-family:Menlo,'DejaVu Sans Mono',consolas,'Courier New',monospace\">12:22:49.176 | <span style=\"color: #008080; text-decoration-color: #008080\">INFO</span>    | Task run 'Exploding values in columns to query with-0' - Finished in state <span style=\"color: #008000; text-decoration-color: #008000\">Completed</span>()\n</pre>\n"
     },
     "metadata": {},
     "output_type": "display_data"
    },
    {
     "data": {
      "text/plain": "12:22:49.207 | \u001B[36mINFO\u001B[0m    | Flow run\u001B[35m 'Preprocessing data dictionary'\u001B[0m - Created task run 'Removing punctuation-0' for task 'Removing punctuation'\n",
      "text/html": "<pre style=\"white-space:pre;overflow-x:auto;line-height:normal;font-family:Menlo,'DejaVu Sans Mono',consolas,'Courier New',monospace\">12:22:49.207 | <span style=\"color: #008080; text-decoration-color: #008080\">INFO</span>    | Flow run<span style=\"color: #800080; text-decoration-color: #800080\"> 'Preprocessing data dictionary'</span> - Created task run 'Removing punctuation-0' for task 'Removing punctuation'\n</pre>\n"
     },
     "metadata": {},
     "output_type": "display_data"
    },
    {
     "data": {
      "text/plain": "12:22:49.208 | \u001B[36mINFO\u001B[0m    | Flow run\u001B[35m 'Preprocessing data dictionary'\u001B[0m - Executing 'Removing punctuation-0' immediately...\n",
      "text/html": "<pre style=\"white-space:pre;overflow-x:auto;line-height:normal;font-family:Menlo,'DejaVu Sans Mono',consolas,'Courier New',monospace\">12:22:49.208 | <span style=\"color: #008080; text-decoration-color: #008080\">INFO</span>    | Flow run<span style=\"color: #800080; text-decoration-color: #800080\"> 'Preprocessing data dictionary'</span> - Executing 'Removing punctuation-0' immediately...\n</pre>\n"
     },
     "metadata": {},
     "output_type": "display_data"
    },
    {
     "data": {
      "text/plain": "12:22:49.320 | \u001B[36mINFO\u001B[0m    | Task run 'Removing punctuation-0' - Finished in state \u001B[32mCompleted\u001B[0m()\n",
      "text/html": "<pre style=\"white-space:pre;overflow-x:auto;line-height:normal;font-family:Menlo,'DejaVu Sans Mono',consolas,'Courier New',monospace\">12:22:49.320 | <span style=\"color: #008080; text-decoration-color: #008080\">INFO</span>    | Task run 'Removing punctuation-0' - Finished in state <span style=\"color: #008000; text-decoration-color: #008000\">Completed</span>()\n</pre>\n"
     },
     "metadata": {},
     "output_type": "display_data"
    },
    {
     "data": {
      "text/plain": "12:22:49.357 | \u001B[36mINFO\u001B[0m    | Flow run\u001B[35m 'Preprocessing data dictionary'\u001B[0m - Created task run 'Removing stopwords from query columns-0' for task 'Removing stopwords from query columns'\n",
      "text/html": "<pre style=\"white-space:pre;overflow-x:auto;line-height:normal;font-family:Menlo,'DejaVu Sans Mono',consolas,'Courier New',monospace\">12:22:49.357 | <span style=\"color: #008080; text-decoration-color: #008080\">INFO</span>    | Flow run<span style=\"color: #800080; text-decoration-color: #800080\"> 'Preprocessing data dictionary'</span> - Created task run 'Removing stopwords from query columns-0' for task 'Removing stopwords from query columns'\n</pre>\n"
     },
     "metadata": {},
     "output_type": "display_data"
    },
    {
     "data": {
      "text/plain": "12:22:49.359 | \u001B[36mINFO\u001B[0m    | Flow run\u001B[35m 'Preprocessing data dictionary'\u001B[0m - Executing 'Removing stopwords from query columns-0' immediately...\n",
      "text/html": "<pre style=\"white-space:pre;overflow-x:auto;line-height:normal;font-family:Menlo,'DejaVu Sans Mono',consolas,'Courier New',monospace\">12:22:49.359 | <span style=\"color: #008080; text-decoration-color: #008080\">INFO</span>    | Flow run<span style=\"color: #800080; text-decoration-color: #800080\"> 'Preprocessing data dictionary'</span> - Executing 'Removing stopwords from query columns-0' immediately...\n</pre>\n"
     },
     "metadata": {},
     "output_type": "display_data"
    },
    {
     "data": {
      "text/plain": "12:22:49.431 | \u001B[36mINFO\u001B[0m    | Task run 'Removing stopwords from query columns-0' - Opening dialog box to choose stopwords file\n",
      "text/html": "<pre style=\"white-space:pre;overflow-x:auto;line-height:normal;font-family:Menlo,'DejaVu Sans Mono',consolas,'Courier New',monospace\">12:22:49.431 | <span style=\"color: #008080; text-decoration-color: #008080\">INFO</span>    | Task run 'Removing stopwords from query columns-0' - Opening dialog box to choose stopwords file\n</pre>\n"
     },
     "metadata": {},
     "output_type": "display_data"
    },
    {
     "data": {
      "text/plain": "12:22:52.171 | \u001B[36mINFO\u001B[0m    | Task run 'Removing stopwords from query columns-0' - File chosen: C:/Users/armengolkm/Desktop/Full Pipeline Test v1.1.0/MetaMap_Settings_StopWords_2022-10-06.csv\n",
      "text/html": "<pre style=\"white-space:pre;overflow-x:auto;line-height:normal;font-family:Menlo,'DejaVu Sans Mono',consolas,'Courier New',monospace\">12:22:52.171 | <span style=\"color: #008080; text-decoration-color: #008080\">INFO</span>    | Task run 'Removing stopwords from query columns-0' - File chosen: C:/Users/armengolkm/Desktop/Full Pipeline Test v1.1.0/MetaMap_Settings_StopWords_2022-10-06.csv\n</pre>\n"
     },
     "metadata": {},
     "output_type": "display_data"
    },
    {
     "data": {
      "text/plain": "12:22:52.207 | \u001B[36mINFO\u001B[0m    | Task run 'Removing stopwords from query columns-0' - Finished in state \u001B[32mCompleted\u001B[0m()\n",
      "text/html": "<pre style=\"white-space:pre;overflow-x:auto;line-height:normal;font-family:Menlo,'DejaVu Sans Mono',consolas,'Courier New',monospace\">12:22:52.207 | <span style=\"color: #008080; text-decoration-color: #008080\">INFO</span>    | Task run 'Removing stopwords from query columns-0' - Finished in state <span style=\"color: #008000; text-decoration-color: #008000\">Completed</span>()\n</pre>\n"
     },
     "metadata": {},
     "output_type": "display_data"
    },
    {
     "data": {
      "text/plain": "12:22:52.210 | \u001B[36mINFO\u001B[0m    | Flow run\u001B[35m 'Preprocessing data dictionary'\u001B[0m - Processed Data Dictionary shape is: (3, 83)\n",
      "text/html": "<pre style=\"white-space:pre;overflow-x:auto;line-height:normal;font-family:Menlo,'DejaVu Sans Mono',consolas,'Courier New',monospace\">12:22:52.210 | <span style=\"color: #008080; text-decoration-color: #008080\">INFO</span>    | Flow run<span style=\"color: #800080; text-decoration-color: #800080\"> 'Preprocessing data dictionary'</span> - Processed Data Dictionary shape is: (3, 83)\n</pre>\n"
     },
     "metadata": {},
     "output_type": "display_data"
    },
    {
     "data": {
      "text/plain": "12:22:52.269 | \u001B[36mINFO\u001B[0m    | Flow run\u001B[35m 'inquisitive-binturong'\u001B[0m - Finished in state \u001B[32mCompleted\u001B[0m()\n",
      "text/html": "<pre style=\"white-space:pre;overflow-x:auto;line-height:normal;font-family:Menlo,'DejaVu Sans Mono',consolas,'Courier New',monospace\">12:22:52.269 | <span style=\"color: #008080; text-decoration-color: #008080\">INFO</span>    | Flow run<span style=\"color: #800080; text-decoration-color: #800080\"> 'inquisitive-binturong'</span> - Finished in state <span style=\"color: #008000; text-decoration-color: #008000\">Completed</span>()\n</pre>\n"
     },
     "metadata": {},
     "output_type": "display_data"
    },
    {
     "data": {
      "text/plain": "12:22:52.409 | \u001B[36mINFO\u001B[0m    | Flow run\u001B[35m 'MetaMap search - batch_query_pipeline'\u001B[0m - Created subflow run\u001B[35m 'hulking-trout'\u001B[0m for flow\u001B[1;35m 'format-curation-dataframe'\u001B[0m\n",
      "text/html": "<pre style=\"white-space:pre;overflow-x:auto;line-height:normal;font-family:Menlo,'DejaVu Sans Mono',consolas,'Courier New',monospace\">12:22:52.409 | <span style=\"color: #008080; text-decoration-color: #008080\">INFO</span>    | Flow run<span style=\"color: #800080; text-decoration-color: #800080\"> 'MetaMap search - batch_query_pipeline'</span> - Created subflow run<span style=\"color: #800080; text-decoration-color: #800080\"> 'hulking-trout'</span> for flow<span style=\"color: #800080; text-decoration-color: #800080; font-weight: bold\"> 'format-curation-dataframe'</span>\n</pre>\n"
     },
     "metadata": {},
     "output_type": "display_data"
    },
    {
     "data": {
      "text/plain": "12:22:52.536 | \u001B[36mINFO\u001B[0m    | Flow run\u001B[35m 'Formatting dataframe for curation'\u001B[0m - Created task run 'Subsetting dataframe with curation related columns-0' for task 'Subsetting dataframe with curation related columns'\n",
      "text/html": "<pre style=\"white-space:pre;overflow-x:auto;line-height:normal;font-family:Menlo,'DejaVu Sans Mono',consolas,'Courier New',monospace\">12:22:52.536 | <span style=\"color: #008080; text-decoration-color: #008080\">INFO</span>    | Flow run<span style=\"color: #800080; text-decoration-color: #800080\"> 'Formatting dataframe for curation'</span> - Created task run 'Subsetting dataframe with curation related columns-0' for task 'Subsetting dataframe with curation related columns'\n</pre>\n"
     },
     "metadata": {},
     "output_type": "display_data"
    },
    {
     "data": {
      "text/plain": "12:22:52.538 | \u001B[36mINFO\u001B[0m    | Flow run\u001B[35m 'Formatting dataframe for curation'\u001B[0m - Executing 'Subsetting dataframe with curation related columns-0' immediately...\n",
      "text/html": "<pre style=\"white-space:pre;overflow-x:auto;line-height:normal;font-family:Menlo,'DejaVu Sans Mono',consolas,'Courier New',monospace\">12:22:52.538 | <span style=\"color: #008080; text-decoration-color: #008080\">INFO</span>    | Flow run<span style=\"color: #800080; text-decoration-color: #800080\"> 'Formatting dataframe for curation'</span> - Executing 'Subsetting dataframe with curation related columns-0' immediately...\n</pre>\n"
     },
     "metadata": {},
     "output_type": "display_data"
    },
    {
     "data": {
      "text/plain": "12:22:52.640 | \u001B[36mINFO\u001B[0m    | Task run 'Subsetting dataframe with curation related columns-0' - Finished in state \u001B[32mCompleted\u001B[0m()\n",
      "text/html": "<pre style=\"white-space:pre;overflow-x:auto;line-height:normal;font-family:Menlo,'DejaVu Sans Mono',consolas,'Courier New',monospace\">12:22:52.640 | <span style=\"color: #008080; text-decoration-color: #008080\">INFO</span>    | Task run 'Subsetting dataframe with curation related columns-0' - Finished in state <span style=\"color: #008000; text-decoration-color: #008000\">Completed</span>()\n</pre>\n"
     },
     "metadata": {},
     "output_type": "display_data"
    },
    {
     "data": {
      "text/plain": "12:22:52.677 | \u001B[36mINFO\u001B[0m    | Flow run\u001B[35m 'Formatting dataframe for curation'\u001B[0m - Created task run 'Adding search_ID column-0' for task 'Adding search_ID column'\n",
      "text/html": "<pre style=\"white-space:pre;overflow-x:auto;line-height:normal;font-family:Menlo,'DejaVu Sans Mono',consolas,'Courier New',monospace\">12:22:52.677 | <span style=\"color: #008080; text-decoration-color: #008080\">INFO</span>    | Flow run<span style=\"color: #800080; text-decoration-color: #800080\"> 'Formatting dataframe for curation'</span> - Created task run 'Adding search_ID column-0' for task 'Adding search_ID column'\n</pre>\n"
     },
     "metadata": {},
     "output_type": "display_data"
    },
    {
     "data": {
      "text/plain": "12:22:52.679 | \u001B[36mINFO\u001B[0m    | Flow run\u001B[35m 'Formatting dataframe for curation'\u001B[0m - Executing 'Adding search_ID column-0' immediately...\n",
      "text/html": "<pre style=\"white-space:pre;overflow-x:auto;line-height:normal;font-family:Menlo,'DejaVu Sans Mono',consolas,'Courier New',monospace\">12:22:52.679 | <span style=\"color: #008080; text-decoration-color: #008080\">INFO</span>    | Flow run<span style=\"color: #800080; text-decoration-color: #800080\"> 'Formatting dataframe for curation'</span> - Executing 'Adding search_ID column-0' immediately...\n</pre>\n"
     },
     "metadata": {},
     "output_type": "display_data"
    },
    {
     "data": {
      "text/plain": "12:22:52.788 | \u001B[36mINFO\u001B[0m    | Task run 'Adding search_ID column-0' - Finished in state \u001B[32mCompleted\u001B[0m()\n",
      "text/html": "<pre style=\"white-space:pre;overflow-x:auto;line-height:normal;font-family:Menlo,'DejaVu Sans Mono',consolas,'Courier New',monospace\">12:22:52.788 | <span style=\"color: #008080; text-decoration-color: #008080\">INFO</span>    | Task run 'Adding search_ID column-0' - Finished in state <span style=\"color: #008000; text-decoration-color: #008000\">Completed</span>()\n</pre>\n"
     },
     "metadata": {},
     "output_type": "display_data"
    },
    {
     "data": {
      "text/plain": "12:22:52.829 | \u001B[36mINFO\u001B[0m    | Flow run\u001B[35m 'Formatting dataframe for curation'\u001B[0m - Created task run 'Adding search pipeline name column-0' for task 'Adding search pipeline name column'\n",
      "text/html": "<pre style=\"white-space:pre;overflow-x:auto;line-height:normal;font-family:Menlo,'DejaVu Sans Mono',consolas,'Courier New',monospace\">12:22:52.829 | <span style=\"color: #008080; text-decoration-color: #008080\">INFO</span>    | Flow run<span style=\"color: #800080; text-decoration-color: #800080\"> 'Formatting dataframe for curation'</span> - Created task run 'Adding search pipeline name column-0' for task 'Adding search pipeline name column'\n</pre>\n"
     },
     "metadata": {},
     "output_type": "display_data"
    },
    {
     "data": {
      "text/plain": "12:22:52.831 | \u001B[36mINFO\u001B[0m    | Flow run\u001B[35m 'Formatting dataframe for curation'\u001B[0m - Executing 'Adding search pipeline name column-0' immediately...\n",
      "text/html": "<pre style=\"white-space:pre;overflow-x:auto;line-height:normal;font-family:Menlo,'DejaVu Sans Mono',consolas,'Courier New',monospace\">12:22:52.831 | <span style=\"color: #008080; text-decoration-color: #008080\">INFO</span>    | Flow run<span style=\"color: #800080; text-decoration-color: #800080\"> 'Formatting dataframe for curation'</span> - Executing 'Adding search pipeline name column-0' immediately...\n</pre>\n"
     },
     "metadata": {},
     "output_type": "display_data"
    },
    {
     "data": {
      "text/plain": "12:22:52.958 | \u001B[36mINFO\u001B[0m    | Task run 'Adding search pipeline name column-0' - Finished in state \u001B[32mCompleted\u001B[0m()\n",
      "text/html": "<pre style=\"white-space:pre;overflow-x:auto;line-height:normal;font-family:Menlo,'DejaVu Sans Mono',consolas,'Courier New',monospace\">12:22:52.958 | <span style=\"color: #008080; text-decoration-color: #008080\">INFO</span>    | Task run 'Adding search pipeline name column-0' - Finished in state <span style=\"color: #008000; text-decoration-color: #008000\">Completed</span>()\n</pre>\n"
     },
     "metadata": {},
     "output_type": "display_data"
    },
    {
     "data": {
      "text/plain": "12:22:53.055 | \u001B[36mINFO\u001B[0m    | Flow run\u001B[35m 'hulking-trout'\u001B[0m - Finished in state \u001B[32mCompleted\u001B[0m()\n",
      "text/html": "<pre style=\"white-space:pre;overflow-x:auto;line-height:normal;font-family:Menlo,'DejaVu Sans Mono',consolas,'Courier New',monospace\">12:22:53.055 | <span style=\"color: #008080; text-decoration-color: #008080\">INFO</span>    | Flow run<span style=\"color: #800080; text-decoration-color: #800080\"> 'hulking-trout'</span> - Finished in state <span style=\"color: #008000; text-decoration-color: #008000\">Completed</span>()\n</pre>\n"
     },
     "metadata": {},
     "output_type": "display_data"
    },
    {
     "data": {
      "text/plain": "12:22:53.103 | \u001B[36mINFO\u001B[0m    | Flow run\u001B[35m 'MetaMap search - batch_query_pipeline'\u001B[0m - Created task run 'Formatting query terms for MetaMap-0' for task 'Formatting query terms for MetaMap'\n",
      "text/html": "<pre style=\"white-space:pre;overflow-x:auto;line-height:normal;font-family:Menlo,'DejaVu Sans Mono',consolas,'Courier New',monospace\">12:22:53.103 | <span style=\"color: #008080; text-decoration-color: #008080\">INFO</span>    | Flow run<span style=\"color: #800080; text-decoration-color: #800080\"> 'MetaMap search - batch_query_pipeline'</span> - Created task run 'Formatting query terms for MetaMap-0' for task 'Formatting query terms for MetaMap'\n</pre>\n"
     },
     "metadata": {},
     "output_type": "display_data"
    },
    {
     "data": {
      "text/plain": "12:22:53.105 | \u001B[36mINFO\u001B[0m    | Flow run\u001B[35m 'MetaMap search - batch_query_pipeline'\u001B[0m - Executing 'Formatting query terms for MetaMap-0' immediately...\n",
      "text/html": "<pre style=\"white-space:pre;overflow-x:auto;line-height:normal;font-family:Menlo,'DejaVu Sans Mono',consolas,'Courier New',monospace\">12:22:53.105 | <span style=\"color: #008080; text-decoration-color: #008080\">INFO</span>    | Flow run<span style=\"color: #800080; text-decoration-color: #800080\"> 'MetaMap search - batch_query_pipeline'</span> - Executing 'Formatting query terms for MetaMap-0' immediately...\n</pre>\n"
     },
     "metadata": {},
     "output_type": "display_data"
    },
    {
     "data": {
      "text/plain": "12:22:53.266 | \u001B[36mINFO\u001B[0m    | Task run 'Formatting query terms for MetaMap-0' - Finished in state \u001B[32mCompleted\u001B[0m()\n",
      "text/html": "<pre style=\"white-space:pre;overflow-x:auto;line-height:normal;font-family:Menlo,'DejaVu Sans Mono',consolas,'Courier New',monospace\">12:22:53.266 | <span style=\"color: #008080; text-decoration-color: #008080\">INFO</span>    | Task run 'Formatting query terms for MetaMap-0' - Finished in state <span style=\"color: #008000; text-decoration-color: #008000\">Completed</span>()\n</pre>\n"
     },
     "metadata": {},
     "output_type": "display_data"
    },
    {
     "data": {
      "text/plain": "12:22:53.321 | \u001B[36mINFO\u001B[0m    | Flow run\u001B[35m 'MetaMap search - batch_query_pipeline'\u001B[0m - Created task run 'Creating MetaMap SinglinePMID.txt input file-0' for task 'Creating MetaMap SinglinePMID.txt input file'\n",
      "text/html": "<pre style=\"white-space:pre;overflow-x:auto;line-height:normal;font-family:Menlo,'DejaVu Sans Mono',consolas,'Courier New',monospace\">12:22:53.321 | <span style=\"color: #008080; text-decoration-color: #008080\">INFO</span>    | Flow run<span style=\"color: #800080; text-decoration-color: #800080\"> 'MetaMap search - batch_query_pipeline'</span> - Created task run 'Creating MetaMap SinglinePMID.txt input file-0' for task 'Creating MetaMap SinglinePMID.txt input file'\n</pre>\n"
     },
     "metadata": {},
     "output_type": "display_data"
    },
    {
     "data": {
      "text/plain": "12:22:53.325 | \u001B[36mINFO\u001B[0m    | Flow run\u001B[35m 'MetaMap search - batch_query_pipeline'\u001B[0m - Executing 'Creating MetaMap SinglinePMID.txt input file-0' immediately...\n",
      "text/html": "<pre style=\"white-space:pre;overflow-x:auto;line-height:normal;font-family:Menlo,'DejaVu Sans Mono',consolas,'Courier New',monospace\">12:22:53.325 | <span style=\"color: #008080; text-decoration-color: #008080\">INFO</span>    | Flow run<span style=\"color: #800080; text-decoration-color: #800080\"> 'MetaMap search - batch_query_pipeline'</span> - Executing 'Creating MetaMap SinglinePMID.txt input file-0' immediately...\n</pre>\n"
     },
     "metadata": {},
     "output_type": "display_data"
    },
    {
     "data": {
      "text/plain": "12:22:53.464 | \u001B[36mINFO\u001B[0m    | Task run 'Creating MetaMap SinglinePMID.txt input file-0' - Finished in state \u001B[32mCompleted\u001B[0m()\n",
      "text/html": "<pre style=\"white-space:pre;overflow-x:auto;line-height:normal;font-family:Menlo,'DejaVu Sans Mono',consolas,'Courier New',monospace\">12:22:53.464 | <span style=\"color: #008080; text-decoration-color: #008080\">INFO</span>    | Task run 'Creating MetaMap SinglinePMID.txt input file-0' - Finished in state <span style=\"color: #008000; text-decoration-color: #008000\">Completed</span>()\n</pre>\n"
     },
     "metadata": {},
     "output_type": "display_data"
    },
    {
     "data": {
      "text/plain": "12:22:53.678 | \u001B[36mINFO\u001B[0m    | Flow run\u001B[35m 'MetaMap search - batch_query_pipeline'\u001B[0m - Created subflow run\u001B[35m 'enchanted-trout'\u001B[0m for flow\u001B[1;35m 'run-batch-metamap-api'\u001B[0m\n",
      "text/html": "<pre style=\"white-space:pre;overflow-x:auto;line-height:normal;font-family:Menlo,'DejaVu Sans Mono',consolas,'Courier New',monospace\">12:22:53.678 | <span style=\"color: #008080; text-decoration-color: #008080\">INFO</span>    | Flow run<span style=\"color: #800080; text-decoration-color: #800080\"> 'MetaMap search - batch_query_pipeline'</span> - Created subflow run<span style=\"color: #800080; text-decoration-color: #800080\"> 'enchanted-trout'</span> for flow<span style=\"color: #800080; text-decoration-color: #800080; font-weight: bold\"> 'run-batch-metamap-api'</span>\n</pre>\n"
     },
     "metadata": {},
     "output_type": "display_data"
    },
    {
     "data": {
      "text/plain": "12:22:53.898 | \u001B[36mINFO\u001B[0m    | Flow run\u001B[35m '\u001B[0m\u001B[35mRunning\u001B[0m\u001B[35m MetaMap batch query'\u001B[0m - MetaMap Batch in progress...\n",
      "text/html": "<pre style=\"white-space:pre;overflow-x:auto;line-height:normal;font-family:Menlo,'DejaVu Sans Mono',consolas,'Courier New',monospace\">12:22:53.898 | <span style=\"color: #008080; text-decoration-color: #008080\">INFO</span>    | Flow run<span style=\"color: #800080; text-decoration-color: #800080\"> 'Running MetaMap batch query'</span> - MetaMap Batch in progress...\n</pre>\n"
     },
     "metadata": {},
     "output_type": "display_data"
    },
    {
     "data": {
      "text/plain": "12:23:25.582 | \u001B[36mINFO\u001B[0m    | Flow run\u001B[35m 'enchanted-trout'\u001B[0m - Finished in state \u001B[32mCompleted\u001B[0m()\n",
      "text/html": "<pre style=\"white-space:pre;overflow-x:auto;line-height:normal;font-family:Menlo,'DejaVu Sans Mono',consolas,'Courier New',monospace\">12:23:25.582 | <span style=\"color: #008080; text-decoration-color: #008080\">INFO</span>    | Flow run<span style=\"color: #800080; text-decoration-color: #800080\"> 'enchanted-trout'</span> - Finished in state <span style=\"color: #008000; text-decoration-color: #008000\">Completed</span>()\n</pre>\n"
     },
     "metadata": {},
     "output_type": "display_data"
    },
    {
     "data": {
      "text/plain": "12:23:25.616 | \u001B[36mINFO\u001B[0m    | Flow run\u001B[35m 'MetaMap search - batch_query_pipeline'\u001B[0m - Created task run 'Converting MetaMap output to JSON-0' for task 'Converting MetaMap output to JSON'\n",
      "text/html": "<pre style=\"white-space:pre;overflow-x:auto;line-height:normal;font-family:Menlo,'DejaVu Sans Mono',consolas,'Courier New',monospace\">12:23:25.616 | <span style=\"color: #008080; text-decoration-color: #008080\">INFO</span>    | Flow run<span style=\"color: #800080; text-decoration-color: #800080\"> 'MetaMap search - batch_query_pipeline'</span> - Created task run 'Converting MetaMap output to JSON-0' for task 'Converting MetaMap output to JSON'\n</pre>\n"
     },
     "metadata": {},
     "output_type": "display_data"
    },
    {
     "data": {
      "text/plain": "12:23:25.617 | \u001B[36mINFO\u001B[0m    | Flow run\u001B[35m 'MetaMap search - batch_query_pipeline'\u001B[0m - Executing 'Converting MetaMap output to JSON-0' immediately...\n",
      "text/html": "<pre style=\"white-space:pre;overflow-x:auto;line-height:normal;font-family:Menlo,'DejaVu Sans Mono',consolas,'Courier New',monospace\">12:23:25.617 | <span style=\"color: #008080; text-decoration-color: #008080\">INFO</span>    | Flow run<span style=\"color: #800080; text-decoration-color: #800080\"> 'MetaMap search - batch_query_pipeline'</span> - Executing 'Converting MetaMap output to JSON-0' immediately...\n</pre>\n"
     },
     "metadata": {},
     "output_type": "display_data"
    },
    {
     "data": {
      "text/plain": "12:23:25.735 | \u001B[36mINFO\u001B[0m    | Task run 'Converting MetaMap output to JSON-0' - Finished in state \u001B[32mCompleted\u001B[0m()\n",
      "text/html": "<pre style=\"white-space:pre;overflow-x:auto;line-height:normal;font-family:Menlo,'DejaVu Sans Mono',consolas,'Courier New',monospace\">12:23:25.735 | <span style=\"color: #008080; text-decoration-color: #008080\">INFO</span>    | Task run 'Converting MetaMap output to JSON-0' - Finished in state <span style=\"color: #008000; text-decoration-color: #008000\">Completed</span>()\n</pre>\n"
     },
     "metadata": {},
     "output_type": "display_data"
    },
    {
     "data": {
      "text/plain": "12:23:25.790 | \u001B[36mINFO\u001B[0m    | Flow run\u001B[35m 'MetaMap search - batch_query_pipeline'\u001B[0m - Created task run 'Saving MetaMap output as JSON-0' for task 'Saving MetaMap output as JSON'\n",
      "text/html": "<pre style=\"white-space:pre;overflow-x:auto;line-height:normal;font-family:Menlo,'DejaVu Sans Mono',consolas,'Courier New',monospace\">12:23:25.790 | <span style=\"color: #008080; text-decoration-color: #008080\">INFO</span>    | Flow run<span style=\"color: #800080; text-decoration-color: #800080\"> 'MetaMap search - batch_query_pipeline'</span> - Created task run 'Saving MetaMap output as JSON-0' for task 'Saving MetaMap output as JSON'\n</pre>\n"
     },
     "metadata": {},
     "output_type": "display_data"
    },
    {
     "data": {
      "text/plain": "12:23:25.792 | \u001B[36mINFO\u001B[0m    | Flow run\u001B[35m 'MetaMap search - batch_query_pipeline'\u001B[0m - Executing 'Saving MetaMap output as JSON-0' immediately...\n",
      "text/html": "<pre style=\"white-space:pre;overflow-x:auto;line-height:normal;font-family:Menlo,'DejaVu Sans Mono',consolas,'Courier New',monospace\">12:23:25.792 | <span style=\"color: #008080; text-decoration-color: #008080\">INFO</span>    | Flow run<span style=\"color: #800080; text-decoration-color: #800080\"> 'MetaMap search - batch_query_pipeline'</span> - Executing 'Saving MetaMap output as JSON-0' immediately...\n</pre>\n"
     },
     "metadata": {},
     "output_type": "display_data"
    },
    {
     "data": {
      "text/plain": "12:23:25.937 | \u001B[36mINFO\u001B[0m    | Task run 'Saving MetaMap output as JSON-0' - Finished in state \u001B[32mCompleted\u001B[0m()\n",
      "text/html": "<pre style=\"white-space:pre;overflow-x:auto;line-height:normal;font-family:Menlo,'DejaVu Sans Mono',consolas,'Courier New',monospace\">12:23:25.937 | <span style=\"color: #008080; text-decoration-color: #008080\">INFO</span>    | Task run 'Saving MetaMap output as JSON-0' - Finished in state <span style=\"color: #008000; text-decoration-color: #008000\">Completed</span>()\n</pre>\n"
     },
     "metadata": {},
     "output_type": "display_data"
    },
    {
     "data": {
      "text/plain": "12:23:26.014 | \u001B[36mINFO\u001B[0m    | Flow run\u001B[35m 'MetaMap search - batch_query_pipeline'\u001B[0m - Created task run 'Processing JSON conversion to dataframe-0' for task 'Processing JSON conversion to dataframe'\n",
      "text/html": "<pre style=\"white-space:pre;overflow-x:auto;line-height:normal;font-family:Menlo,'DejaVu Sans Mono',consolas,'Courier New',monospace\">12:23:26.014 | <span style=\"color: #008080; text-decoration-color: #008080\">INFO</span>    | Flow run<span style=\"color: #800080; text-decoration-color: #800080\"> 'MetaMap search - batch_query_pipeline'</span> - Created task run 'Processing JSON conversion to dataframe-0' for task 'Processing JSON conversion to dataframe'\n</pre>\n"
     },
     "metadata": {},
     "output_type": "display_data"
    },
    {
     "data": {
      "text/plain": "12:23:26.017 | \u001B[36mINFO\u001B[0m    | Flow run\u001B[35m 'MetaMap search - batch_query_pipeline'\u001B[0m - Executing 'Processing JSON conversion to dataframe-0' immediately...\n",
      "text/html": "<pre style=\"white-space:pre;overflow-x:auto;line-height:normal;font-family:Menlo,'DejaVu Sans Mono',consolas,'Courier New',monospace\">12:23:26.017 | <span style=\"color: #008080; text-decoration-color: #008080\">INFO</span>    | Flow run<span style=\"color: #800080; text-decoration-color: #800080\"> 'MetaMap search - batch_query_pipeline'</span> - Executing 'Processing JSON conversion to dataframe-0' immediately...\n</pre>\n"
     },
     "metadata": {},
     "output_type": "display_data"
    },
    {
     "data": {
      "text/plain": "12:23:26.143 | \u001B[36mINFO\u001B[0m    | Task run 'Processing JSON conversion to dataframe-0' - Finished in state \u001B[32mCompleted\u001B[0m()\n",
      "text/html": "<pre style=\"white-space:pre;overflow-x:auto;line-height:normal;font-family:Menlo,'DejaVu Sans Mono',consolas,'Courier New',monospace\">12:23:26.143 | <span style=\"color: #008080; text-decoration-color: #008080\">INFO</span>    | Task run 'Processing JSON conversion to dataframe-0' - Finished in state <span style=\"color: #008000; text-decoration-color: #008000\">Completed</span>()\n</pre>\n"
     },
     "metadata": {},
     "output_type": "display_data"
    },
    {
     "data": {
      "text/plain": "12:23:26.195 | \u001B[36mINFO\u001B[0m    | Flow run\u001B[35m 'MetaMap search - batch_query_pipeline'\u001B[0m - Created task run 'Renaming MetaMap columns for curation file-0' for task 'Renaming MetaMap columns for curation file'\n",
      "text/html": "<pre style=\"white-space:pre;overflow-x:auto;line-height:normal;font-family:Menlo,'DejaVu Sans Mono',consolas,'Courier New',monospace\">12:23:26.195 | <span style=\"color: #008080; text-decoration-color: #008080\">INFO</span>    | Flow run<span style=\"color: #800080; text-decoration-color: #800080\"> 'MetaMap search - batch_query_pipeline'</span> - Created task run 'Renaming MetaMap columns for curation file-0' for task 'Renaming MetaMap columns for curation file'\n</pre>\n"
     },
     "metadata": {},
     "output_type": "display_data"
    },
    {
     "data": {
      "text/plain": "12:23:26.200 | \u001B[36mINFO\u001B[0m    | Flow run\u001B[35m 'MetaMap search - batch_query_pipeline'\u001B[0m - Executing 'Renaming MetaMap columns for curation file-0' immediately...\n",
      "text/html": "<pre style=\"white-space:pre;overflow-x:auto;line-height:normal;font-family:Menlo,'DejaVu Sans Mono',consolas,'Courier New',monospace\">12:23:26.200 | <span style=\"color: #008080; text-decoration-color: #008080\">INFO</span>    | Flow run<span style=\"color: #800080; text-decoration-color: #800080\"> 'MetaMap search - batch_query_pipeline'</span> - Executing 'Renaming MetaMap columns for curation file-0' immediately...\n</pre>\n"
     },
     "metadata": {},
     "output_type": "display_data"
    },
    {
     "data": {
      "text/plain": "12:23:26.337 | \u001B[36mINFO\u001B[0m    | Task run 'Renaming MetaMap columns for curation file-0' - Finished in state \u001B[32mCompleted\u001B[0m()\n",
      "text/html": "<pre style=\"white-space:pre;overflow-x:auto;line-height:normal;font-family:Menlo,'DejaVu Sans Mono',consolas,'Courier New',monospace\">12:23:26.337 | <span style=\"color: #008080; text-decoration-color: #008080\">INFO</span>    | Task run 'Renaming MetaMap columns for curation file-0' - Finished in state <span style=\"color: #008000; text-decoration-color: #008000\">Completed</span>()\n</pre>\n"
     },
     "metadata": {},
     "output_type": "display_data"
    },
    {
     "data": {
      "text/plain": "12:23:26.394 | \u001B[36mINFO\u001B[0m    | Flow run\u001B[35m 'MetaMap search - batch_query_pipeline'\u001B[0m - Created task run 'Creating curation file-0' for task 'Creating curation file'\n",
      "text/html": "<pre style=\"white-space:pre;overflow-x:auto;line-height:normal;font-family:Menlo,'DejaVu Sans Mono',consolas,'Courier New',monospace\">12:23:26.394 | <span style=\"color: #008080; text-decoration-color: #008080\">INFO</span>    | Flow run<span style=\"color: #800080; text-decoration-color: #800080\"> 'MetaMap search - batch_query_pipeline'</span> - Created task run 'Creating curation file-0' for task 'Creating curation file'\n</pre>\n"
     },
     "metadata": {},
     "output_type": "display_data"
    },
    {
     "data": {
      "text/plain": "12:23:26.397 | \u001B[36mINFO\u001B[0m    | Flow run\u001B[35m 'MetaMap search - batch_query_pipeline'\u001B[0m - Executing 'Creating curation file-0' immediately...\n",
      "text/html": "<pre style=\"white-space:pre;overflow-x:auto;line-height:normal;font-family:Menlo,'DejaVu Sans Mono',consolas,'Courier New',monospace\">12:23:26.397 | <span style=\"color: #008080; text-decoration-color: #008080\">INFO</span>    | Flow run<span style=\"color: #800080; text-decoration-color: #800080\"> 'MetaMap search - batch_query_pipeline'</span> - Executing 'Creating curation file-0' immediately...\n</pre>\n"
     },
     "metadata": {},
     "output_type": "display_data"
    },
    {
     "data": {
      "text/plain": "12:23:26.671 | \u001B[36mINFO\u001B[0m    | Task run 'Creating curation file-0' - Finished in state \u001B[32mCompleted\u001B[0m()\n",
      "text/html": "<pre style=\"white-space:pre;overflow-x:auto;line-height:normal;font-family:Menlo,'DejaVu Sans Mono',consolas,'Courier New',monospace\">12:23:26.671 | <span style=\"color: #008080; text-decoration-color: #008080\">INFO</span>    | Task run 'Creating curation file-0' - Finished in state <span style=\"color: #008000; text-decoration-color: #008000\">Completed</span>()\n</pre>\n"
     },
     "metadata": {},
     "output_type": "display_data"
    },
    {
     "data": {
      "text/plain": "12:23:26.729 | \u001B[36mINFO\u001B[0m    | Flow run\u001B[35m 'MetaMap search - batch_query_pipeline'\u001B[0m - Created task run 'Saving config file-0' for task 'Saving config file'\n",
      "text/html": "<pre style=\"white-space:pre;overflow-x:auto;line-height:normal;font-family:Menlo,'DejaVu Sans Mono',consolas,'Courier New',monospace\">12:23:26.729 | <span style=\"color: #008080; text-decoration-color: #008080\">INFO</span>    | Flow run<span style=\"color: #800080; text-decoration-color: #800080\"> 'MetaMap search - batch_query_pipeline'</span> - Created task run 'Saving config file-0' for task 'Saving config file'\n</pre>\n"
     },
     "metadata": {},
     "output_type": "display_data"
    },
    {
     "data": {
      "text/plain": "12:23:26.733 | \u001B[36mINFO\u001B[0m    | Flow run\u001B[35m 'MetaMap search - batch_query_pipeline'\u001B[0m - Executing 'Saving config file-0' immediately...\n",
      "text/html": "<pre style=\"white-space:pre;overflow-x:auto;line-height:normal;font-family:Menlo,'DejaVu Sans Mono',consolas,'Courier New',monospace\">12:23:26.733 | <span style=\"color: #008080; text-decoration-color: #008080\">INFO</span>    | Flow run<span style=\"color: #800080; text-decoration-color: #800080\"> 'MetaMap search - batch_query_pipeline'</span> - Executing 'Saving config file-0' immediately...\n</pre>\n"
     },
     "metadata": {},
     "output_type": "display_data"
    },
    {
     "data": {
      "text/plain": "12:23:26.883 | \u001B[36mINFO\u001B[0m    | Task run 'Saving config file-0' - Saving config file\n",
      "text/html": "<pre style=\"white-space:pre;overflow-x:auto;line-height:normal;font-family:Menlo,'DejaVu Sans Mono',consolas,'Courier New',monospace\">12:23:26.883 | <span style=\"color: #008080; text-decoration-color: #008080\">INFO</span>    | Task run 'Saving config file-0' - Saving config file\n</pre>\n"
     },
     "metadata": {},
     "output_type": "display_data"
    },
    {
     "data": {
      "text/plain": "12:23:26.976 | \u001B[36mINFO\u001B[0m    | Task run 'Saving config file-0' - Finished in state \u001B[32mCompleted\u001B[0m()\n",
      "text/html": "<pre style=\"white-space:pre;overflow-x:auto;line-height:normal;font-family:Menlo,'DejaVu Sans Mono',consolas,'Courier New',monospace\">12:23:26.976 | <span style=\"color: #008080; text-decoration-color: #008080\">INFO</span>    | Task run 'Saving config file-0' - Finished in state <span style=\"color: #008000; text-decoration-color: #008000\">Completed</span>()\n</pre>\n"
     },
     "metadata": {},
     "output_type": "display_data"
    },
    {
     "data": {
      "text/plain": "12:23:26.980 | \u001B[36mINFO\u001B[0m    | Flow run\u001B[35m 'MetaMap search - batch_query_pipeline'\u001B[0m - FINISHED MetaMap batch query pipeline!!!\n",
      "text/html": "<pre style=\"white-space:pre;overflow-x:auto;line-height:normal;font-family:Menlo,'DejaVu Sans Mono',consolas,'Courier New',monospace\">12:23:26.980 | <span style=\"color: #008080; text-decoration-color: #008080\">INFO</span>    | Flow run<span style=\"color: #800080; text-decoration-color: #800080\"> 'MetaMap search - batch_query_pipeline'</span> - FINISHED MetaMap batch query pipeline!!!\n</pre>\n"
     },
     "metadata": {},
     "output_type": "display_data"
    },
    {
     "data": {
      "text/plain": "12:23:27.067 | \u001B[36mINFO\u001B[0m    | Flow run\u001B[35m 'curly-frigatebird'\u001B[0m - Finished in state \u001B[32mCompleted\u001B[0m()\n",
      "text/html": "<pre style=\"white-space:pre;overflow-x:auto;line-height:normal;font-family:Menlo,'DejaVu Sans Mono',consolas,'Courier New',monospace\">12:23:27.067 | <span style=\"color: #008080; text-decoration-color: #008080\">INFO</span>    | Flow run<span style=\"color: #800080; text-decoration-color: #800080\"> 'curly-frigatebird'</span> - Finished in state <span style=\"color: #008000; text-decoration-color: #008000\">Completed</span>()\n</pre>\n"
     },
     "metadata": {},
     "output_type": "display_data"
    },
    {
     "data": {
      "text/plain": "12:23:27.143 | \u001B[36mINFO\u001B[0m    | Flow run\u001B[35m '\u001B[0m\u001B[35mRunning\u001B[0m\u001B[35m UMLS/MetaMap/Semantic Search hydra search pipeline'\u001B[0m - Created task run 'Creating new folder-1' for task 'Creating new folder'\n",
      "text/html": "<pre style=\"white-space:pre;overflow-x:auto;line-height:normal;font-family:Menlo,'DejaVu Sans Mono',consolas,'Courier New',monospace\">12:23:27.143 | <span style=\"color: #008080; text-decoration-color: #008080\">INFO</span>    | Flow run<span style=\"color: #800080; text-decoration-color: #800080\"> 'Running UMLS/MetaMap/Semantic Search hydra search pipeline'</span> - Created task run 'Creating new folder-1' for task 'Creating new folder'\n</pre>\n"
     },
     "metadata": {},
     "output_type": "display_data"
    },
    {
     "data": {
      "text/plain": "12:23:27.146 | \u001B[36mINFO\u001B[0m    | Flow run\u001B[35m '\u001B[0m\u001B[35mRunning\u001B[0m\u001B[35m UMLS/MetaMap/Semantic Search hydra search pipeline'\u001B[0m - Executing 'Creating new folder-1' immediately...\n",
      "text/html": "<pre style=\"white-space:pre;overflow-x:auto;line-height:normal;font-family:Menlo,'DejaVu Sans Mono',consolas,'Courier New',monospace\">12:23:27.146 | <span style=\"color: #008080; text-decoration-color: #008080\">INFO</span>    | Flow run<span style=\"color: #800080; text-decoration-color: #800080\"> 'Running UMLS/MetaMap/Semantic Search hydra search pipeline'</span> - Executing 'Creating new folder-1' immediately...\n</pre>\n"
     },
     "metadata": {},
     "output_type": "display_data"
    },
    {
     "data": {
      "text/plain": "12:23:27.368 | \u001B[36mINFO\u001B[0m    | Task run 'Creating new folder-1' - Folder created: C:\\Users\\armengolkm\\Desktop\\Full Pipeline Test v1.1.0\\Hydra_Search\\DE_Step-1_Hydra-search (8)\\DE_Step-1_hybrid-semantic-search_alpha=[1.0, 0.0]\n",
      "text/html": "<pre style=\"white-space:pre;overflow-x:auto;line-height:normal;font-family:Menlo,'DejaVu Sans Mono',consolas,'Courier New',monospace\">12:23:27.368 | <span style=\"color: #008080; text-decoration-color: #008080\">INFO</span>    | Task run 'Creating new folder-1' - Folder created: C:\\Users\\armengolkm\\Desktop\\Full Pipeline Test v1.1.0\\Hydra_Search\\DE_Step-1_Hydra-search (8)\\DE_Step-1_hybrid-semantic-search_alpha=[1.0, 0.0]\n</pre>\n"
     },
     "metadata": {},
     "output_type": "display_data"
    },
    {
     "data": {
      "text/plain": "12:23:27.449 | \u001B[36mINFO\u001B[0m    | Task run 'Creating new folder-1' - Finished in state \u001B[32mCompleted\u001B[0m()\n",
      "text/html": "<pre style=\"white-space:pre;overflow-x:auto;line-height:normal;font-family:Menlo,'DejaVu Sans Mono',consolas,'Courier New',monospace\">12:23:27.449 | <span style=\"color: #008080; text-decoration-color: #008080\">INFO</span>    | Task run 'Creating new folder-1' - Finished in state <span style=\"color: #008000; text-decoration-color: #008000\">Completed</span>()\n</pre>\n"
     },
     "metadata": {},
     "output_type": "display_data"
    },
    {
     "data": {
      "text/plain": "12:23:27.729 | \u001B[36mINFO\u001B[0m    | Flow run\u001B[35m '\u001B[0m\u001B[35mRunning\u001B[0m\u001B[35m UMLS/MetaMap/Semantic Search hydra search pipeline'\u001B[0m - Created subflow run\u001B[35m 'just-dragon'\u001B[0m for flow\u001B[1;35m 'run-hybrid-ss-batch'\u001B[0m\n",
      "text/html": "<pre style=\"white-space:pre;overflow-x:auto;line-height:normal;font-family:Menlo,'DejaVu Sans Mono',consolas,'Courier New',monospace\">12:23:27.729 | <span style=\"color: #008080; text-decoration-color: #008080\">INFO</span>    | Flow run<span style=\"color: #800080; text-decoration-color: #800080\"> 'Running UMLS/MetaMap/Semantic Search hydra search pipeline'</span> - Created subflow run<span style=\"color: #800080; text-decoration-color: #800080\"> 'just-dragon'</span> for flow<span style=\"color: #800080; text-decoration-color: #800080; font-weight: bold\"> 'run-hybrid-ss-batch'</span>\n</pre>\n"
     },
     "metadata": {},
     "output_type": "display_data"
    },
    {
     "data": {
      "text/plain": "12:23:28.036 | \u001B[36mINFO\u001B[0m    | Flow run\u001B[35m 'Pinecone Semantic Search - batch_hybrid_query_pipeline'\u001B[0m - Created task run 'Checking Pinecone credentials in config files or .env file-0' for task 'Checking Pinecone credentials in config files or .env file'\n",
      "text/html": "<pre style=\"white-space:pre;overflow-x:auto;line-height:normal;font-family:Menlo,'DejaVu Sans Mono',consolas,'Courier New',monospace\">12:23:28.036 | <span style=\"color: #008080; text-decoration-color: #008080\">INFO</span>    | Flow run<span style=\"color: #800080; text-decoration-color: #800080\"> 'Pinecone Semantic Search - batch_hybrid_query_pipeline'</span> - Created task run 'Checking Pinecone credentials in config files or .env file-0' for task 'Checking Pinecone credentials in config files or .env file'\n</pre>\n"
     },
     "metadata": {},
     "output_type": "display_data"
    },
    {
     "data": {
      "text/plain": "12:23:28.050 | \u001B[36mINFO\u001B[0m    | Flow run\u001B[35m 'Pinecone Semantic Search - batch_hybrid_query_pipeline'\u001B[0m - Executing 'Checking Pinecone credentials in config files or .env file-0' immediately...\n",
      "text/html": "<pre style=\"white-space:pre;overflow-x:auto;line-height:normal;font-family:Menlo,'DejaVu Sans Mono',consolas,'Courier New',monospace\">12:23:28.050 | <span style=\"color: #008080; text-decoration-color: #008080\">INFO</span>    | Flow run<span style=\"color: #800080; text-decoration-color: #800080\"> 'Pinecone Semantic Search - batch_hybrid_query_pipeline'</span> - Executing 'Checking Pinecone credentials in config files or .env file-0' immediately...\n</pre>\n"
     },
     "metadata": {},
     "output_type": "display_data"
    },
    {
     "data": {
      "text/plain": "12:23:28.254 | \u001B[36mINFO\u001B[0m    | Task run 'Checking Pinecone credentials in config files or .env file-0' - No apiKey found in config files. Looking in .env file.\n",
      "text/html": "<pre style=\"white-space:pre;overflow-x:auto;line-height:normal;font-family:Menlo,'DejaVu Sans Mono',consolas,'Courier New',monospace\">12:23:28.254 | <span style=\"color: #008080; text-decoration-color: #008080\">INFO</span>    | Task run 'Checking Pinecone credentials in config files or .env file-0' - No apiKey found in config files. Looking in .env file.\n</pre>\n"
     },
     "metadata": {},
     "output_type": "display_data"
    },
    {
     "data": {
      "text/plain": "12:23:28.257 | \u001B[36mINFO\u001B[0m    | Task run 'Checking Pinecone credentials in config files or .env file-0' - Using API_KEY_PINECONE found in .env file.\n",
      "text/html": "<pre style=\"white-space:pre;overflow-x:auto;line-height:normal;font-family:Menlo,'DejaVu Sans Mono',consolas,'Courier New',monospace\">12:23:28.257 | <span style=\"color: #008080; text-decoration-color: #008080\">INFO</span>    | Task run 'Checking Pinecone credentials in config files or .env file-0' - Using API_KEY_PINECONE found in .env file.\n</pre>\n"
     },
     "metadata": {},
     "output_type": "display_data"
    },
    {
     "data": {
      "text/plain": "12:23:28.262 | \u001B[36mINFO\u001B[0m    | Task run 'Checking Pinecone credentials in config files or .env file-0' - No environment found in config files. Looking in .env file.\n",
      "text/html": "<pre style=\"white-space:pre;overflow-x:auto;line-height:normal;font-family:Menlo,'DejaVu Sans Mono',consolas,'Courier New',monospace\">12:23:28.262 | <span style=\"color: #008080; text-decoration-color: #008080\">INFO</span>    | Task run 'Checking Pinecone credentials in config files or .env file-0' - No environment found in config files. Looking in .env file.\n</pre>\n"
     },
     "metadata": {},
     "output_type": "display_data"
    },
    {
     "data": {
      "text/plain": "12:23:28.265 | \u001B[36mINFO\u001B[0m    | Task run 'Checking Pinecone credentials in config files or .env file-0' - Using API_KEY_PINECONE found in .env file.\n",
      "text/html": "<pre style=\"white-space:pre;overflow-x:auto;line-height:normal;font-family:Menlo,'DejaVu Sans Mono',consolas,'Courier New',monospace\">12:23:28.265 | <span style=\"color: #008080; text-decoration-color: #008080\">INFO</span>    | Task run 'Checking Pinecone credentials in config files or .env file-0' - Using API_KEY_PINECONE found in .env file.\n</pre>\n"
     },
     "metadata": {},
     "output_type": "display_data"
    },
    {
     "data": {
      "text/plain": "12:23:28.347 | \u001B[36mINFO\u001B[0m    | Task run 'Checking Pinecone credentials in config files or .env file-0' - Finished in state \u001B[32mCompleted\u001B[0m()\n",
      "text/html": "<pre style=\"white-space:pre;overflow-x:auto;line-height:normal;font-family:Menlo,'DejaVu Sans Mono',consolas,'Courier New',monospace\">12:23:28.347 | <span style=\"color: #008080; text-decoration-color: #008080\">INFO</span>    | Task run 'Checking Pinecone credentials in config files or .env file-0' - Finished in state <span style=\"color: #008000; text-decoration-color: #008000\">Completed</span>()\n</pre>\n"
     },
     "metadata": {},
     "output_type": "display_data"
    },
    {
     "data": {
      "text/plain": "12:23:28.453 | \u001B[36mINFO\u001B[0m    | Flow run\u001B[35m 'Pinecone Semantic Search - batch_hybrid_query_pipeline'\u001B[0m - Created task run 'Connect to Pinecone index-0' for task 'Connect to Pinecone index'\n",
      "text/html": "<pre style=\"white-space:pre;overflow-x:auto;line-height:normal;font-family:Menlo,'DejaVu Sans Mono',consolas,'Courier New',monospace\">12:23:28.453 | <span style=\"color: #008080; text-decoration-color: #008080\">INFO</span>    | Flow run<span style=\"color: #800080; text-decoration-color: #800080\"> 'Pinecone Semantic Search - batch_hybrid_query_pipeline'</span> - Created task run 'Connect to Pinecone index-0' for task 'Connect to Pinecone index'\n</pre>\n"
     },
     "metadata": {},
     "output_type": "display_data"
    },
    {
     "data": {
      "text/plain": "12:23:28.458 | \u001B[36mINFO\u001B[0m    | Flow run\u001B[35m 'Pinecone Semantic Search - batch_hybrid_query_pipeline'\u001B[0m - Executing 'Connect to Pinecone index-0' immediately...\n",
      "text/html": "<pre style=\"white-space:pre;overflow-x:auto;line-height:normal;font-family:Menlo,'DejaVu Sans Mono',consolas,'Courier New',monospace\">12:23:28.458 | <span style=\"color: #008080; text-decoration-color: #008080\">INFO</span>    | Flow run<span style=\"color: #800080; text-decoration-color: #800080\"> 'Pinecone Semantic Search - batch_hybrid_query_pipeline'</span> - Executing 'Connect to Pinecone index-0' immediately...\n</pre>\n"
     },
     "metadata": {},
     "output_type": "display_data"
    },
    {
     "data": {
      "text/plain": "12:23:29.035 | \u001B[36mINFO\u001B[0m    | Task run 'Connect to Pinecone index-0' - Finished in state \u001B[32mCompleted\u001B[0m()\n",
      "text/html": "<pre style=\"white-space:pre;overflow-x:auto;line-height:normal;font-family:Menlo,'DejaVu Sans Mono',consolas,'Courier New',monospace\">12:23:29.035 | <span style=\"color: #008080; text-decoration-color: #008080\">INFO</span>    | Task run 'Connect to Pinecone index-0' - Finished in state <span style=\"color: #008000; text-decoration-color: #008000\">Completed</span>()\n</pre>\n"
     },
     "metadata": {},
     "output_type": "display_data"
    },
    {
     "data": {
      "text/plain": "12:23:30.185 | \u001B[36mINFO\u001B[0m    | Flow run\u001B[35m 'Pinecone Semantic Search - batch_hybrid_query_pipeline'\u001B[0m - Pinecone indexes available: ['umls-cui-hybrid-semantic-search']\n",
      "text/html": "<pre style=\"white-space:pre;overflow-x:auto;line-height:normal;font-family:Menlo,'DejaVu Sans Mono',consolas,'Courier New',monospace\">12:23:30.185 | <span style=\"color: #008080; text-decoration-color: #008080\">INFO</span>    | Flow run<span style=\"color: #800080; text-decoration-color: #800080\"> 'Pinecone Semantic Search - batch_hybrid_query_pipeline'</span> - Pinecone indexes available: ['umls-cui-hybrid-semantic-search']\n</pre>\n"
     },
     "metadata": {},
     "output_type": "display_data"
    },
    {
     "data": {
      "text/plain": "12:23:30.541 | \u001B[36mINFO\u001B[0m    | Flow run\u001B[35m 'Pinecone Semantic Search - batch_hybrid_query_pipeline'\u001B[0m - Stats for index 'umls-cui-hybrid-semantic-search': {'dimension': 768,\n 'index_fullness': 0.6,\n 'namespaces': {'DEF': {'vector_count': 259368},\n                'STR': {'vector_count': 259368}},\n 'total_vector_count': 518736}\n",
      "text/html": "<pre style=\"white-space:pre;overflow-x:auto;line-height:normal;font-family:Menlo,'DejaVu Sans Mono',consolas,'Courier New',monospace\">12:23:30.541 | <span style=\"color: #008080; text-decoration-color: #008080\">INFO</span>    | Flow run<span style=\"color: #800080; text-decoration-color: #800080\"> 'Pinecone Semantic Search - batch_hybrid_query_pipeline'</span> - Stats for index 'umls-cui-hybrid-semantic-search': {'dimension': 768,\n 'index_fullness': 0.6,\n 'namespaces': {'DEF': {'vector_count': 259368},\n                'STR': {'vector_count': 259368}},\n 'total_vector_count': 518736}\n</pre>\n"
     },
     "metadata": {},
     "output_type": "display_data"
    },
    {
     "data": {
      "text/plain": "12:23:30.736 | \u001B[36mINFO\u001B[0m    | Flow run\u001B[35m 'Pinecone Semantic Search - batch_hybrid_query_pipeline'\u001B[0m - Created subflow run\u001B[35m 'courageous-wrasse'\u001B[0m for flow\u001B[1;35m 'process-data-dictionary'\u001B[0m\n",
      "text/html": "<pre style=\"white-space:pre;overflow-x:auto;line-height:normal;font-family:Menlo,'DejaVu Sans Mono',consolas,'Courier New',monospace\">12:23:30.736 | <span style=\"color: #008080; text-decoration-color: #008080\">INFO</span>    | Flow run<span style=\"color: #800080; text-decoration-color: #800080\"> 'Pinecone Semantic Search - batch_hybrid_query_pipeline'</span> - Created subflow run<span style=\"color: #800080; text-decoration-color: #800080\"> 'courageous-wrasse'</span> for flow<span style=\"color: #800080; text-decoration-color: #800080; font-weight: bold\"> 'process-data-dictionary'</span>\n</pre>\n"
     },
     "metadata": {},
     "output_type": "display_data"
    },
    {
     "data": {
      "text/plain": "12:23:30.854 | \u001B[36mINFO\u001B[0m    | Flow run\u001B[35m 'Preprocessing data dictionary'\u001B[0m - Cheatsheet not used\n",
      "text/html": "<pre style=\"white-space:pre;overflow-x:auto;line-height:normal;font-family:Menlo,'DejaVu Sans Mono',consolas,'Courier New',monospace\">12:23:30.854 | <span style=\"color: #008080; text-decoration-color: #008080\">INFO</span>    | Flow run<span style=\"color: #800080; text-decoration-color: #800080\"> 'Preprocessing data dictionary'</span> - Cheatsheet not used\n</pre>\n"
     },
     "metadata": {},
     "output_type": "display_data"
    },
    {
     "data": {
      "text/plain": "12:23:30.901 | \u001B[36mINFO\u001B[0m    | Flow run\u001B[35m 'Preprocessing data dictionary'\u001B[0m - Created task run 'Exploding values in columns to query with-0' for task 'Exploding values in columns to query with'\n",
      "text/html": "<pre style=\"white-space:pre;overflow-x:auto;line-height:normal;font-family:Menlo,'DejaVu Sans Mono',consolas,'Courier New',monospace\">12:23:30.901 | <span style=\"color: #008080; text-decoration-color: #008080\">INFO</span>    | Flow run<span style=\"color: #800080; text-decoration-color: #800080\"> 'Preprocessing data dictionary'</span> - Created task run 'Exploding values in columns to query with-0' for task 'Exploding values in columns to query with'\n</pre>\n"
     },
     "metadata": {},
     "output_type": "display_data"
    },
    {
     "data": {
      "text/plain": "12:23:30.904 | \u001B[36mINFO\u001B[0m    | Flow run\u001B[35m 'Preprocessing data dictionary'\u001B[0m - Executing 'Exploding values in columns to query with-0' immediately...\n",
      "text/html": "<pre style=\"white-space:pre;overflow-x:auto;line-height:normal;font-family:Menlo,'DejaVu Sans Mono',consolas,'Courier New',monospace\">12:23:30.904 | <span style=\"color: #008080; text-decoration-color: #008080\">INFO</span>    | Flow run<span style=\"color: #800080; text-decoration-color: #800080\"> 'Preprocessing data dictionary'</span> - Executing 'Exploding values in columns to query with-0' immediately...\n</pre>\n"
     },
     "metadata": {},
     "output_type": "display_data"
    },
    {
     "data": {
      "text/plain": "12:23:31.108 | \u001B[36mINFO\u001B[0m    | Task run 'Exploding values in columns to query with-0' - Finished in state \u001B[32mCompleted\u001B[0m()\n",
      "text/html": "<pre style=\"white-space:pre;overflow-x:auto;line-height:normal;font-family:Menlo,'DejaVu Sans Mono',consolas,'Courier New',monospace\">12:23:31.108 | <span style=\"color: #008080; text-decoration-color: #008080\">INFO</span>    | Task run 'Exploding values in columns to query with-0' - Finished in state <span style=\"color: #008000; text-decoration-color: #008000\">Completed</span>()\n</pre>\n"
     },
     "metadata": {},
     "output_type": "display_data"
    },
    {
     "data": {
      "text/plain": "12:23:31.201 | \u001B[36mINFO\u001B[0m    | Flow run\u001B[35m 'Preprocessing data dictionary'\u001B[0m - Created task run 'Removing punctuation-0' for task 'Removing punctuation'\n",
      "text/html": "<pre style=\"white-space:pre;overflow-x:auto;line-height:normal;font-family:Menlo,'DejaVu Sans Mono',consolas,'Courier New',monospace\">12:23:31.201 | <span style=\"color: #008080; text-decoration-color: #008080\">INFO</span>    | Flow run<span style=\"color: #800080; text-decoration-color: #800080\"> 'Preprocessing data dictionary'</span> - Created task run 'Removing punctuation-0' for task 'Removing punctuation'\n</pre>\n"
     },
     "metadata": {},
     "output_type": "display_data"
    },
    {
     "data": {
      "text/plain": "12:23:31.204 | \u001B[36mINFO\u001B[0m    | Flow run\u001B[35m 'Preprocessing data dictionary'\u001B[0m - Executing 'Removing punctuation-0' immediately...\n",
      "text/html": "<pre style=\"white-space:pre;overflow-x:auto;line-height:normal;font-family:Menlo,'DejaVu Sans Mono',consolas,'Courier New',monospace\">12:23:31.204 | <span style=\"color: #008080; text-decoration-color: #008080\">INFO</span>    | Flow run<span style=\"color: #800080; text-decoration-color: #800080\"> 'Preprocessing data dictionary'</span> - Executing 'Removing punctuation-0' immediately...\n</pre>\n"
     },
     "metadata": {},
     "output_type": "display_data"
    },
    {
     "data": {
      "text/plain": "12:23:31.374 | \u001B[36mINFO\u001B[0m    | Task run 'Removing punctuation-0' - Finished in state \u001B[32mCompleted\u001B[0m()\n",
      "text/html": "<pre style=\"white-space:pre;overflow-x:auto;line-height:normal;font-family:Menlo,'DejaVu Sans Mono',consolas,'Courier New',monospace\">12:23:31.374 | <span style=\"color: #008080; text-decoration-color: #008080\">INFO</span>    | Task run 'Removing punctuation-0' - Finished in state <span style=\"color: #008000; text-decoration-color: #008000\">Completed</span>()\n</pre>\n"
     },
     "metadata": {},
     "output_type": "display_data"
    },
    {
     "data": {
      "text/plain": "12:23:31.440 | \u001B[36mINFO\u001B[0m    | Flow run\u001B[35m 'Preprocessing data dictionary'\u001B[0m - Created task run 'Removing stopwords from query columns-0' for task 'Removing stopwords from query columns'\n",
      "text/html": "<pre style=\"white-space:pre;overflow-x:auto;line-height:normal;font-family:Menlo,'DejaVu Sans Mono',consolas,'Courier New',monospace\">12:23:31.440 | <span style=\"color: #008080; text-decoration-color: #008080\">INFO</span>    | Flow run<span style=\"color: #800080; text-decoration-color: #800080\"> 'Preprocessing data dictionary'</span> - Created task run 'Removing stopwords from query columns-0' for task 'Removing stopwords from query columns'\n</pre>\n"
     },
     "metadata": {},
     "output_type": "display_data"
    },
    {
     "data": {
      "text/plain": "12:23:31.444 | \u001B[36mINFO\u001B[0m    | Flow run\u001B[35m 'Preprocessing data dictionary'\u001B[0m - Executing 'Removing stopwords from query columns-0' immediately...\n",
      "text/html": "<pre style=\"white-space:pre;overflow-x:auto;line-height:normal;font-family:Menlo,'DejaVu Sans Mono',consolas,'Courier New',monospace\">12:23:31.444 | <span style=\"color: #008080; text-decoration-color: #008080\">INFO</span>    | Flow run<span style=\"color: #800080; text-decoration-color: #800080\"> 'Preprocessing data dictionary'</span> - Executing 'Removing stopwords from query columns-0' immediately...\n</pre>\n"
     },
     "metadata": {},
     "output_type": "display_data"
    },
    {
     "data": {
      "text/plain": "12:23:31.612 | \u001B[36mINFO\u001B[0m    | Task run 'Removing stopwords from query columns-0' - Finished in state \u001B[32mCompleted\u001B[0m()\n",
      "text/html": "<pre style=\"white-space:pre;overflow-x:auto;line-height:normal;font-family:Menlo,'DejaVu Sans Mono',consolas,'Courier New',monospace\">12:23:31.612 | <span style=\"color: #008080; text-decoration-color: #008080\">INFO</span>    | Task run 'Removing stopwords from query columns-0' - Finished in state <span style=\"color: #008000; text-decoration-color: #008000\">Completed</span>()\n</pre>\n"
     },
     "metadata": {},
     "output_type": "display_data"
    },
    {
     "data": {
      "text/plain": "12:23:31.617 | \u001B[36mINFO\u001B[0m    | Flow run\u001B[35m 'Preprocessing data dictionary'\u001B[0m - Processed Data Dictionary shape is: (3, 86)\n",
      "text/html": "<pre style=\"white-space:pre;overflow-x:auto;line-height:normal;font-family:Menlo,'DejaVu Sans Mono',consolas,'Courier New',monospace\">12:23:31.617 | <span style=\"color: #008080; text-decoration-color: #008080\">INFO</span>    | Flow run<span style=\"color: #800080; text-decoration-color: #800080\"> 'Preprocessing data dictionary'</span> - Processed Data Dictionary shape is: (3, 86)\n</pre>\n"
     },
     "metadata": {},
     "output_type": "display_data"
    },
    {
     "data": {
      "text/plain": "12:23:31.701 | \u001B[36mINFO\u001B[0m    | Flow run\u001B[35m 'courageous-wrasse'\u001B[0m - Finished in state \u001B[32mCompleted\u001B[0m()\n",
      "text/html": "<pre style=\"white-space:pre;overflow-x:auto;line-height:normal;font-family:Menlo,'DejaVu Sans Mono',consolas,'Courier New',monospace\">12:23:31.701 | <span style=\"color: #008080; text-decoration-color: #008080\">INFO</span>    | Flow run<span style=\"color: #800080; text-decoration-color: #800080\"> 'courageous-wrasse'</span> - Finished in state <span style=\"color: #008000; text-decoration-color: #008000\">Completed</span>()\n</pre>\n"
     },
     "metadata": {},
     "output_type": "display_data"
    },
    {
     "data": {
      "text/plain": "12:23:31.964 | \u001B[36mINFO\u001B[0m    | Flow run\u001B[35m 'Pinecone Semantic Search - batch_hybrid_query_pipeline'\u001B[0m - Created subflow run\u001B[35m 'bright-dragon'\u001B[0m for flow\u001B[1;35m 'format-curation-dataframe'\u001B[0m\n",
      "text/html": "<pre style=\"white-space:pre;overflow-x:auto;line-height:normal;font-family:Menlo,'DejaVu Sans Mono',consolas,'Courier New',monospace\">12:23:31.964 | <span style=\"color: #008080; text-decoration-color: #008080\">INFO</span>    | Flow run<span style=\"color: #800080; text-decoration-color: #800080\"> 'Pinecone Semantic Search - batch_hybrid_query_pipeline'</span> - Created subflow run<span style=\"color: #800080; text-decoration-color: #800080\"> 'bright-dragon'</span> for flow<span style=\"color: #800080; text-decoration-color: #800080; font-weight: bold\"> 'format-curation-dataframe'</span>\n</pre>\n"
     },
     "metadata": {},
     "output_type": "display_data"
    },
    {
     "data": {
      "text/plain": "12:23:32.231 | \u001B[36mINFO\u001B[0m    | Flow run\u001B[35m 'Formatting dataframe for curation'\u001B[0m - Created task run 'Subsetting dataframe with curation related columns-0' for task 'Subsetting dataframe with curation related columns'\n",
      "text/html": "<pre style=\"white-space:pre;overflow-x:auto;line-height:normal;font-family:Menlo,'DejaVu Sans Mono',consolas,'Courier New',monospace\">12:23:32.231 | <span style=\"color: #008080; text-decoration-color: #008080\">INFO</span>    | Flow run<span style=\"color: #800080; text-decoration-color: #800080\"> 'Formatting dataframe for curation'</span> - Created task run 'Subsetting dataframe with curation related columns-0' for task 'Subsetting dataframe with curation related columns'\n</pre>\n"
     },
     "metadata": {},
     "output_type": "display_data"
    },
    {
     "data": {
      "text/plain": "12:23:32.236 | \u001B[36mINFO\u001B[0m    | Flow run\u001B[35m 'Formatting dataframe for curation'\u001B[0m - Executing 'Subsetting dataframe with curation related columns-0' immediately...\n",
      "text/html": "<pre style=\"white-space:pre;overflow-x:auto;line-height:normal;font-family:Menlo,'DejaVu Sans Mono',consolas,'Courier New',monospace\">12:23:32.236 | <span style=\"color: #008080; text-decoration-color: #008080\">INFO</span>    | Flow run<span style=\"color: #800080; text-decoration-color: #800080\"> 'Formatting dataframe for curation'</span> - Executing 'Subsetting dataframe with curation related columns-0' immediately...\n</pre>\n"
     },
     "metadata": {},
     "output_type": "display_data"
    },
    {
     "data": {
      "text/plain": "12:23:32.453 | \u001B[36mINFO\u001B[0m    | Task run 'Subsetting dataframe with curation related columns-0' - Finished in state \u001B[32mCompleted\u001B[0m()\n",
      "text/html": "<pre style=\"white-space:pre;overflow-x:auto;line-height:normal;font-family:Menlo,'DejaVu Sans Mono',consolas,'Courier New',monospace\">12:23:32.453 | <span style=\"color: #008080; text-decoration-color: #008080\">INFO</span>    | Task run 'Subsetting dataframe with curation related columns-0' - Finished in state <span style=\"color: #008000; text-decoration-color: #008000\">Completed</span>()\n</pre>\n"
     },
     "metadata": {},
     "output_type": "display_data"
    },
    {
     "data": {
      "text/plain": "12:23:32.538 | \u001B[36mINFO\u001B[0m    | Flow run\u001B[35m 'Formatting dataframe for curation'\u001B[0m - Created task run 'Adding search_ID column-0' for task 'Adding search_ID column'\n",
      "text/html": "<pre style=\"white-space:pre;overflow-x:auto;line-height:normal;font-family:Menlo,'DejaVu Sans Mono',consolas,'Courier New',monospace\">12:23:32.538 | <span style=\"color: #008080; text-decoration-color: #008080\">INFO</span>    | Flow run<span style=\"color: #800080; text-decoration-color: #800080\"> 'Formatting dataframe for curation'</span> - Created task run 'Adding search_ID column-0' for task 'Adding search_ID column'\n</pre>\n"
     },
     "metadata": {},
     "output_type": "display_data"
    },
    {
     "data": {
      "text/plain": "12:23:32.542 | \u001B[36mINFO\u001B[0m    | Flow run\u001B[35m 'Formatting dataframe for curation'\u001B[0m - Executing 'Adding search_ID column-0' immediately...\n",
      "text/html": "<pre style=\"white-space:pre;overflow-x:auto;line-height:normal;font-family:Menlo,'DejaVu Sans Mono',consolas,'Courier New',monospace\">12:23:32.542 | <span style=\"color: #008080; text-decoration-color: #008080\">INFO</span>    | Flow run<span style=\"color: #800080; text-decoration-color: #800080\"> 'Formatting dataframe for curation'</span> - Executing 'Adding search_ID column-0' immediately...\n</pre>\n"
     },
     "metadata": {},
     "output_type": "display_data"
    },
    {
     "data": {
      "text/plain": "12:23:32.719 | \u001B[36mINFO\u001B[0m    | Task run 'Adding search_ID column-0' - Finished in state \u001B[32mCompleted\u001B[0m()\n",
      "text/html": "<pre style=\"white-space:pre;overflow-x:auto;line-height:normal;font-family:Menlo,'DejaVu Sans Mono',consolas,'Courier New',monospace\">12:23:32.719 | <span style=\"color: #008080; text-decoration-color: #008080\">INFO</span>    | Task run 'Adding search_ID column-0' - Finished in state <span style=\"color: #008000; text-decoration-color: #008000\">Completed</span>()\n</pre>\n"
     },
     "metadata": {},
     "output_type": "display_data"
    },
    {
     "data": {
      "text/plain": "12:23:32.812 | \u001B[36mINFO\u001B[0m    | Flow run\u001B[35m 'Formatting dataframe for curation'\u001B[0m - Created task run 'Adding search pipeline name column-0' for task 'Adding search pipeline name column'\n",
      "text/html": "<pre style=\"white-space:pre;overflow-x:auto;line-height:normal;font-family:Menlo,'DejaVu Sans Mono',consolas,'Courier New',monospace\">12:23:32.812 | <span style=\"color: #008080; text-decoration-color: #008080\">INFO</span>    | Flow run<span style=\"color: #800080; text-decoration-color: #800080\"> 'Formatting dataframe for curation'</span> - Created task run 'Adding search pipeline name column-0' for task 'Adding search pipeline name column'\n</pre>\n"
     },
     "metadata": {},
     "output_type": "display_data"
    },
    {
     "data": {
      "text/plain": "12:23:32.815 | \u001B[36mINFO\u001B[0m    | Flow run\u001B[35m 'Formatting dataframe for curation'\u001B[0m - Executing 'Adding search pipeline name column-0' immediately...\n",
      "text/html": "<pre style=\"white-space:pre;overflow-x:auto;line-height:normal;font-family:Menlo,'DejaVu Sans Mono',consolas,'Courier New',monospace\">12:23:32.815 | <span style=\"color: #008080; text-decoration-color: #008080\">INFO</span>    | Flow run<span style=\"color: #800080; text-decoration-color: #800080\"> 'Formatting dataframe for curation'</span> - Executing 'Adding search pipeline name column-0' immediately...\n</pre>\n"
     },
     "metadata": {},
     "output_type": "display_data"
    },
    {
     "data": {
      "text/plain": "12:23:33.036 | \u001B[36mINFO\u001B[0m    | Task run 'Adding search pipeline name column-0' - Finished in state \u001B[32mCompleted\u001B[0m()\n",
      "text/html": "<pre style=\"white-space:pre;overflow-x:auto;line-height:normal;font-family:Menlo,'DejaVu Sans Mono',consolas,'Courier New',monospace\">12:23:33.036 | <span style=\"color: #008080; text-decoration-color: #008080\">INFO</span>    | Task run 'Adding search pipeline name column-0' - Finished in state <span style=\"color: #008000; text-decoration-color: #008000\">Completed</span>()\n</pre>\n"
     },
     "metadata": {},
     "output_type": "display_data"
    },
    {
     "data": {
      "text/plain": "12:23:33.133 | \u001B[36mINFO\u001B[0m    | Flow run\u001B[35m 'bright-dragon'\u001B[0m - Finished in state \u001B[32mCompleted\u001B[0m()\n",
      "text/html": "<pre style=\"white-space:pre;overflow-x:auto;line-height:normal;font-family:Menlo,'DejaVu Sans Mono',consolas,'Courier New',monospace\">12:23:33.133 | <span style=\"color: #008080; text-decoration-color: #008080\">INFO</span>    | Flow run<span style=\"color: #800080; text-decoration-color: #800080\"> 'bright-dragon'</span> - Finished in state <span style=\"color: #008000; text-decoration-color: #008000\">Completed</span>()\n</pre>\n"
     },
     "metadata": {},
     "output_type": "display_data"
    },
    {
     "data": {
      "text/plain": "12:23:33.326 | \u001B[36mINFO\u001B[0m    | Flow run\u001B[35m 'Pinecone Semantic Search - batch_hybrid_query_pipeline'\u001B[0m - Created task run 'Checking/Setting Device for embedding-0' for task 'Checking/Setting Device for embedding'\n",
      "text/html": "<pre style=\"white-space:pre;overflow-x:auto;line-height:normal;font-family:Menlo,'DejaVu Sans Mono',consolas,'Courier New',monospace\">12:23:33.326 | <span style=\"color: #008080; text-decoration-color: #008080\">INFO</span>    | Flow run<span style=\"color: #800080; text-decoration-color: #800080\"> 'Pinecone Semantic Search - batch_hybrid_query_pipeline'</span> - Created task run 'Checking/Setting Device for embedding-0' for task 'Checking/Setting Device for embedding'\n</pre>\n"
     },
     "metadata": {},
     "output_type": "display_data"
    },
    {
     "data": {
      "text/plain": "12:23:33.329 | \u001B[36mINFO\u001B[0m    | Flow run\u001B[35m 'Pinecone Semantic Search - batch_hybrid_query_pipeline'\u001B[0m - Executing 'Checking/Setting Device for embedding-0' immediately...\n",
      "text/html": "<pre style=\"white-space:pre;overflow-x:auto;line-height:normal;font-family:Menlo,'DejaVu Sans Mono',consolas,'Courier New',monospace\">12:23:33.329 | <span style=\"color: #008080; text-decoration-color: #008080\">INFO</span>    | Flow run<span style=\"color: #800080; text-decoration-color: #800080\"> 'Pinecone Semantic Search - batch_hybrid_query_pipeline'</span> - Executing 'Checking/Setting Device for embedding-0' immediately...\n</pre>\n"
     },
     "metadata": {},
     "output_type": "display_data"
    },
    {
     "data": {
      "text/plain": "12:23:33.519 | \u001B[36mINFO\u001B[0m    | Task run 'Checking/Setting Device for embedding-0' - Running on cpu\n",
      "text/html": "<pre style=\"white-space:pre;overflow-x:auto;line-height:normal;font-family:Menlo,'DejaVu Sans Mono',consolas,'Courier New',monospace\">12:23:33.519 | <span style=\"color: #008080; text-decoration-color: #008080\">INFO</span>    | Task run 'Checking/Setting Device for embedding-0' - Running on cpu\n</pre>\n"
     },
     "metadata": {},
     "output_type": "display_data"
    },
    {
     "data": {
      "text/plain": "12:23:33.620 | \u001B[36mINFO\u001B[0m    | Task run 'Checking/Setting Device for embedding-0' - Finished in state \u001B[32mCompleted\u001B[0m()\n",
      "text/html": "<pre style=\"white-space:pre;overflow-x:auto;line-height:normal;font-family:Menlo,'DejaVu Sans Mono',consolas,'Courier New',monospace\">12:23:33.620 | <span style=\"color: #008080; text-decoration-color: #008080\">INFO</span>    | Task run 'Checking/Setting Device for embedding-0' - Finished in state <span style=\"color: #008000; text-decoration-color: #008000\">Completed</span>()\n</pre>\n"
     },
     "metadata": {},
     "output_type": "display_data"
    },
    {
     "data": {
      "text/plain": "12:23:33.962 | \u001B[36mINFO\u001B[0m    | Flow run\u001B[35m 'Pinecone Semantic Search - batch_hybrid_query_pipeline'\u001B[0m - Created subflow run\u001B[35m 'aquamarine-gibbon'\u001B[0m for flow\u001B[1;35m 'hybrid-builder'\u001B[0m\n",
      "text/html": "<pre style=\"white-space:pre;overflow-x:auto;line-height:normal;font-family:Menlo,'DejaVu Sans Mono',consolas,'Courier New',monospace\">12:23:33.962 | <span style=\"color: #008080; text-decoration-color: #008080\">INFO</span>    | Flow run<span style=\"color: #800080; text-decoration-color: #800080\"> 'Pinecone Semantic Search - batch_hybrid_query_pipeline'</span> - Created subflow run<span style=\"color: #800080; text-decoration-color: #800080\"> 'aquamarine-gibbon'</span> for flow<span style=\"color: #800080; text-decoration-color: #800080; font-weight: bold\"> 'hybrid-builder'</span>\n</pre>\n"
     },
     "metadata": {},
     "output_type": "display_data"
    },
    {
     "data": {
      "text/plain": "12:23:38.751 | \u001B[36mINFO\u001B[0m    | Flow run\u001B[35m 'Building dense and sparse embeddings and adding metadata for upsert into Pinecone'\u001B[0m - Embedding title_extracted\n",
      "text/html": "<pre style=\"white-space:pre;overflow-x:auto;line-height:normal;font-family:Menlo,'DejaVu Sans Mono',consolas,'Courier New',monospace\">12:23:38.751 | <span style=\"color: #008080; text-decoration-color: #008080\">INFO</span>    | Flow run<span style=\"color: #800080; text-decoration-color: #800080\"> 'Building dense and sparse embeddings and adding metadata for upsert into Pinecone'</span> - Embedding title_extracted\n</pre>\n"
     },
     "metadata": {},
     "output_type": "display_data"
    },
    {
     "data": {
      "text/plain": "Batches:   0%|          | 0/1 [00:00<?, ?it/s]",
      "application/vnd.jupyter.widget-view+json": {
       "version_major": 2,
       "version_minor": 0,
       "model_id": "f3e633b6a570400bbadf53974a10ef51"
      }
     },
     "metadata": {},
     "output_type": "display_data"
    },
    {
     "data": {
      "text/plain": "12:23:38.825 | \u001B[36mINFO\u001B[0m    | Flow run\u001B[35m 'Building dense and sparse embeddings and adding metadata for upsert into Pinecone'\u001B[0m - Embedding 0 to 100\n",
      "text/html": "<pre style=\"white-space:pre;overflow-x:auto;line-height:normal;font-family:Menlo,'DejaVu Sans Mono',consolas,'Courier New',monospace\">12:23:38.825 | <span style=\"color: #008080; text-decoration-color: #008080\">INFO</span>    | Flow run<span style=\"color: #800080; text-decoration-color: #800080\"> 'Building dense and sparse embeddings and adding metadata for upsert into Pinecone'</span> - Embedding 0 to 100\n</pre>\n"
     },
     "metadata": {},
     "output_type": "display_data"
    },
    {
     "name": "stderr",
     "output_type": "stream",
     "text": [
      "C:\\Users\\armengolkm\\AppData\\Local\\pypoetry\\Cache\\virtualenvs\\data-dictionary-cui-mapping-U7yrxD7_-py3.9\\lib\\site-packages\\torch\\amp\\autocast_mode.py:204: UserWarning: User provided device_type of 'cuda', but CUDA is not available. Disabling\n",
      "  warnings.warn('User provided device_type of \\'cuda\\', but CUDA is not available. Disabling')\n"
     ]
    },
    {
     "data": {
      "text/plain": "12:23:38.942 | \u001B[36mINFO\u001B[0m    | Flow run\u001B[35m 'Building dense and sparse embeddings and adding metadata for upsert into Pinecone'\u001B[0m - Embedding definition_extracted\n",
      "text/html": "<pre style=\"white-space:pre;overflow-x:auto;line-height:normal;font-family:Menlo,'DejaVu Sans Mono',consolas,'Courier New',monospace\">12:23:38.942 | <span style=\"color: #008080; text-decoration-color: #008080\">INFO</span>    | Flow run<span style=\"color: #800080; text-decoration-color: #800080\"> 'Building dense and sparse embeddings and adding metadata for upsert into Pinecone'</span> - Embedding definition_extracted\n</pre>\n"
     },
     "metadata": {},
     "output_type": "display_data"
    },
    {
     "data": {
      "text/plain": "Batches:   0%|          | 0/1 [00:00<?, ?it/s]",
      "application/vnd.jupyter.widget-view+json": {
       "version_major": 2,
       "version_minor": 0,
       "model_id": "1ed7aaf79c244501bf9021f148f0f8a3"
      }
     },
     "metadata": {},
     "output_type": "display_data"
    },
    {
     "data": {
      "text/plain": "12:23:39.330 | \u001B[36mINFO\u001B[0m    | Flow run\u001B[35m 'Building dense and sparse embeddings and adding metadata for upsert into Pinecone'\u001B[0m - Embedding 0 to 100\n",
      "text/html": "<pre style=\"white-space:pre;overflow-x:auto;line-height:normal;font-family:Menlo,'DejaVu Sans Mono',consolas,'Courier New',monospace\">12:23:39.330 | <span style=\"color: #008080; text-decoration-color: #008080\">INFO</span>    | Flow run<span style=\"color: #800080; text-decoration-color: #800080\"> 'Building dense and sparse embeddings and adding metadata for upsert into Pinecone'</span> - Embedding 0 to 100\n</pre>\n"
     },
     "metadata": {},
     "output_type": "display_data"
    },
    {
     "name": "stderr",
     "output_type": "stream",
     "text": [
      "C:\\Users\\armengolkm\\AppData\\Local\\pypoetry\\Cache\\virtualenvs\\data-dictionary-cui-mapping-U7yrxD7_-py3.9\\lib\\site-packages\\torch\\amp\\autocast_mode.py:204: UserWarning: User provided device_type of 'cuda', but CUDA is not available. Disabling\n",
      "  warnings.warn('User provided device_type of \\'cuda\\', but CUDA is not available. Disabling')\n"
     ]
    },
    {
     "data": {
      "text/plain": "12:23:40.332 | \u001B[36mINFO\u001B[0m    | Flow run\u001B[35m 'aquamarine-gibbon'\u001B[0m - Finished in state \u001B[32mCompleted\u001B[0m()\n",
      "text/html": "<pre style=\"white-space:pre;overflow-x:auto;line-height:normal;font-family:Menlo,'DejaVu Sans Mono',consolas,'Courier New',monospace\">12:23:40.332 | <span style=\"color: #008080; text-decoration-color: #008080\">INFO</span>    | Flow run<span style=\"color: #800080; text-decoration-color: #800080\"> 'aquamarine-gibbon'</span> - Finished in state <span style=\"color: #008000; text-decoration-color: #008000\">Completed</span>()\n</pre>\n"
     },
     "metadata": {},
     "output_type": "display_data"
    },
    {
     "data": {
      "text/plain": "12:23:40.412 | \u001B[36mINFO\u001B[0m    | Flow run\u001B[35m 'Pinecone Semantic Search - batch_hybrid_query_pipeline'\u001B[0m - Created task run 'Tokenizing Columns and Adding to Metadata-0' for task 'Tokenizing Columns and Adding to Metadata'\n",
      "text/html": "<pre style=\"white-space:pre;overflow-x:auto;line-height:normal;font-family:Menlo,'DejaVu Sans Mono',consolas,'Courier New',monospace\">12:23:40.412 | <span style=\"color: #008080; text-decoration-color: #008080\">INFO</span>    | Flow run<span style=\"color: #800080; text-decoration-color: #800080\"> 'Pinecone Semantic Search - batch_hybrid_query_pipeline'</span> - Created task run 'Tokenizing Columns and Adding to Metadata-0' for task 'Tokenizing Columns and Adding to Metadata'\n</pre>\n"
     },
     "metadata": {},
     "output_type": "display_data"
    },
    {
     "data": {
      "text/plain": "12:23:40.416 | \u001B[36mINFO\u001B[0m    | Flow run\u001B[35m 'Pinecone Semantic Search - batch_hybrid_query_pipeline'\u001B[0m - Executing 'Tokenizing Columns and Adding to Metadata-0' immediately...\n",
      "text/html": "<pre style=\"white-space:pre;overflow-x:auto;line-height:normal;font-family:Menlo,'DejaVu Sans Mono',consolas,'Courier New',monospace\">12:23:40.416 | <span style=\"color: #008080; text-decoration-color: #008080\">INFO</span>    | Flow run<span style=\"color: #800080; text-decoration-color: #800080\"> 'Pinecone Semantic Search - batch_hybrid_query_pipeline'</span> - Executing 'Tokenizing Columns and Adding to Metadata-0' immediately...\n</pre>\n"
     },
     "metadata": {},
     "output_type": "display_data"
    },
    {
     "data": {
      "text/plain": "12:23:41.862 | \u001B[36mINFO\u001B[0m    | Task run 'Tokenizing Columns and Adding to Metadata-0' - Tokenizing title_extracted\n",
      "text/html": "<pre style=\"white-space:pre;overflow-x:auto;line-height:normal;font-family:Menlo,'DejaVu Sans Mono',consolas,'Courier New',monospace\">12:23:41.862 | <span style=\"color: #008080; text-decoration-color: #008080\">INFO</span>    | Task run 'Tokenizing Columns and Adding to Metadata-0' - Tokenizing title_extracted\n</pre>\n"
     },
     "metadata": {},
     "output_type": "display_data"
    },
    {
     "data": {
      "text/plain": "12:23:41.866 | \u001B[36mINFO\u001B[0m    | Task run 'Tokenizing Columns and Adding to Metadata-0' - Tokenizing definition_extracted\n",
      "text/html": "<pre style=\"white-space:pre;overflow-x:auto;line-height:normal;font-family:Menlo,'DejaVu Sans Mono',consolas,'Courier New',monospace\">12:23:41.866 | <span style=\"color: #008080; text-decoration-color: #008080\">INFO</span>    | Task run 'Tokenizing Columns and Adding to Metadata-0' - Tokenizing definition_extracted\n</pre>\n"
     },
     "metadata": {},
     "output_type": "display_data"
    },
    {
     "data": {
      "text/plain": "12:23:41.946 | \u001B[36mINFO\u001B[0m    | Task run 'Tokenizing Columns and Adding to Metadata-0' - Finished in state \u001B[32mCompleted\u001B[0m()\n",
      "text/html": "<pre style=\"white-space:pre;overflow-x:auto;line-height:normal;font-family:Menlo,'DejaVu Sans Mono',consolas,'Courier New',monospace\">12:23:41.946 | <span style=\"color: #008080; text-decoration-color: #008080\">INFO</span>    | Task run 'Tokenizing Columns and Adding to Metadata-0' - Finished in state <span style=\"color: #008000; text-decoration-color: #008000\">Completed</span>()\n</pre>\n"
     },
     "metadata": {},
     "output_type": "display_data"
    },
    {
     "name": "stderr",
     "output_type": "stream",
     "text": [
      "Semantic Search Runner: 100%|██████████| 3/3 [00:01<00:00,  2.02it/s]\n",
      "Aggregating Results: 100%|██████████| 3/3 [00:00<00:00, 225.69it/s]\n",
      "Semantic Search Runner: 100%|██████████| 3/3 [00:01<00:00,  2.63it/s]\n",
      "Aggregating Results: 100%|██████████| 3/3 [00:00<00:00, 238.88it/s]\n"
     ]
    },
    {
     "data": {
      "text/plain": "12:23:45.141 | \u001B[36mINFO\u001B[0m    | Flow run\u001B[35m 'Pinecone Semantic Search - batch_hybrid_query_pipeline'\u001B[0m - Created task run 'Creating curation file-0' for task 'Creating curation file'\n",
      "text/html": "<pre style=\"white-space:pre;overflow-x:auto;line-height:normal;font-family:Menlo,'DejaVu Sans Mono',consolas,'Courier New',monospace\">12:23:45.141 | <span style=\"color: #008080; text-decoration-color: #008080\">INFO</span>    | Flow run<span style=\"color: #800080; text-decoration-color: #800080\"> 'Pinecone Semantic Search - batch_hybrid_query_pipeline'</span> - Created task run 'Creating curation file-0' for task 'Creating curation file'\n</pre>\n"
     },
     "metadata": {},
     "output_type": "display_data"
    },
    {
     "data": {
      "text/plain": "12:23:45.143 | \u001B[36mINFO\u001B[0m    | Flow run\u001B[35m 'Pinecone Semantic Search - batch_hybrid_query_pipeline'\u001B[0m - Executing 'Creating curation file-0' immediately...\n",
      "text/html": "<pre style=\"white-space:pre;overflow-x:auto;line-height:normal;font-family:Menlo,'DejaVu Sans Mono',consolas,'Courier New',monospace\">12:23:45.143 | <span style=\"color: #008080; text-decoration-color: #008080\">INFO</span>    | Flow run<span style=\"color: #800080; text-decoration-color: #800080\"> 'Pinecone Semantic Search - batch_hybrid_query_pipeline'</span> - Executing 'Creating curation file-0' immediately...\n</pre>\n"
     },
     "metadata": {},
     "output_type": "display_data"
    },
    {
     "data": {
      "text/plain": "12:23:46.578 | \u001B[36mINFO\u001B[0m    | Task run 'Creating curation file-0' - Finished in state \u001B[32mCompleted\u001B[0m()\n",
      "text/html": "<pre style=\"white-space:pre;overflow-x:auto;line-height:normal;font-family:Menlo,'DejaVu Sans Mono',consolas,'Courier New',monospace\">12:23:46.578 | <span style=\"color: #008080; text-decoration-color: #008080\">INFO</span>    | Task run 'Creating curation file-0' - Finished in state <span style=\"color: #008000; text-decoration-color: #008000\">Completed</span>()\n</pre>\n"
     },
     "metadata": {},
     "output_type": "display_data"
    },
    {
     "data": {
      "text/plain": "12:23:46.622 | \u001B[36mINFO\u001B[0m    | Flow run\u001B[35m 'Pinecone Semantic Search - batch_hybrid_query_pipeline'\u001B[0m - Created task run 'Saving config file-0' for task 'Saving config file'\n",
      "text/html": "<pre style=\"white-space:pre;overflow-x:auto;line-height:normal;font-family:Menlo,'DejaVu Sans Mono',consolas,'Courier New',monospace\">12:23:46.622 | <span style=\"color: #008080; text-decoration-color: #008080\">INFO</span>    | Flow run<span style=\"color: #800080; text-decoration-color: #800080\"> 'Pinecone Semantic Search - batch_hybrid_query_pipeline'</span> - Created task run 'Saving config file-0' for task 'Saving config file'\n</pre>\n"
     },
     "metadata": {},
     "output_type": "display_data"
    },
    {
     "data": {
      "text/plain": "12:23:46.625 | \u001B[36mINFO\u001B[0m    | Flow run\u001B[35m 'Pinecone Semantic Search - batch_hybrid_query_pipeline'\u001B[0m - Executing 'Saving config file-0' immediately...\n",
      "text/html": "<pre style=\"white-space:pre;overflow-x:auto;line-height:normal;font-family:Menlo,'DejaVu Sans Mono',consolas,'Courier New',monospace\">12:23:46.625 | <span style=\"color: #008080; text-decoration-color: #008080\">INFO</span>    | Flow run<span style=\"color: #800080; text-decoration-color: #800080\"> 'Pinecone Semantic Search - batch_hybrid_query_pipeline'</span> - Executing 'Saving config file-0' immediately...\n</pre>\n"
     },
     "metadata": {},
     "output_type": "display_data"
    },
    {
     "data": {
      "text/plain": "12:23:46.760 | \u001B[36mINFO\u001B[0m    | Task run 'Saving config file-0' - Saving config file\n",
      "text/html": "<pre style=\"white-space:pre;overflow-x:auto;line-height:normal;font-family:Menlo,'DejaVu Sans Mono',consolas,'Courier New',monospace\">12:23:46.760 | <span style=\"color: #008080; text-decoration-color: #008080\">INFO</span>    | Task run 'Saving config file-0' - Saving config file\n</pre>\n"
     },
     "metadata": {},
     "output_type": "display_data"
    },
    {
     "data": {
      "text/plain": "12:23:46.812 | \u001B[36mINFO\u001B[0m    | Task run 'Saving config file-0' - Finished in state \u001B[32mCompleted\u001B[0m()\n",
      "text/html": "<pre style=\"white-space:pre;overflow-x:auto;line-height:normal;font-family:Menlo,'DejaVu Sans Mono',consolas,'Courier New',monospace\">12:23:46.812 | <span style=\"color: #008080; text-decoration-color: #008080\">INFO</span>    | Task run 'Saving config file-0' - Finished in state <span style=\"color: #008000; text-decoration-color: #008000\">Completed</span>()\n</pre>\n"
     },
     "metadata": {},
     "output_type": "display_data"
    },
    {
     "data": {
      "text/plain": "12:23:46.815 | \u001B[36mINFO\u001B[0m    | Flow run\u001B[35m 'Pinecone Semantic Search - batch_hybrid_query_pipeline'\u001B[0m - FINISHED Pinecone Semantic Search batch query pipeline!!!\n",
      "text/html": "<pre style=\"white-space:pre;overflow-x:auto;line-height:normal;font-family:Menlo,'DejaVu Sans Mono',consolas,'Courier New',monospace\">12:23:46.815 | <span style=\"color: #008080; text-decoration-color: #008080\">INFO</span>    | Flow run<span style=\"color: #800080; text-decoration-color: #800080\"> 'Pinecone Semantic Search - batch_hybrid_query_pipeline'</span> - FINISHED Pinecone Semantic Search batch query pipeline!!!\n</pre>\n"
     },
     "metadata": {},
     "output_type": "display_data"
    },
    {
     "data": {
      "text/plain": "12:23:46.979 | \u001B[36mINFO\u001B[0m    | Flow run\u001B[35m 'just-dragon'\u001B[0m - Finished in state \u001B[32mCompleted\u001B[0m()\n",
      "text/html": "<pre style=\"white-space:pre;overflow-x:auto;line-height:normal;font-family:Menlo,'DejaVu Sans Mono',consolas,'Courier New',monospace\">12:23:46.979 | <span style=\"color: #008080; text-decoration-color: #008080\">INFO</span>    | Flow run<span style=\"color: #800080; text-decoration-color: #800080\"> 'just-dragon'</span> - Finished in state <span style=\"color: #008000; text-decoration-color: #008000\">Completed</span>()\n</pre>\n"
     },
     "metadata": {},
     "output_type": "display_data"
    },
    {
     "data": {
      "text/plain": "12:23:47.802 | \u001B[36mINFO\u001B[0m    | Flow run\u001B[35m '\u001B[0m\u001B[35mRunning\u001B[0m\u001B[35m UMLS/MetaMap/Semantic Search hydra search pipeline'\u001B[0m - Created subflow run\u001B[35m 'flying-puffin'\u001B[0m for flow\u001B[1;35m 'process-data-dictionary'\u001B[0m\n",
      "text/html": "<pre style=\"white-space:pre;overflow-x:auto;line-height:normal;font-family:Menlo,'DejaVu Sans Mono',consolas,'Courier New',monospace\">12:23:47.802 | <span style=\"color: #008080; text-decoration-color: #008080\">INFO</span>    | Flow run<span style=\"color: #800080; text-decoration-color: #800080\"> 'Running UMLS/MetaMap/Semantic Search hydra search pipeline'</span> - Created subflow run<span style=\"color: #800080; text-decoration-color: #800080\"> 'flying-puffin'</span> for flow<span style=\"color: #800080; text-decoration-color: #800080; font-weight: bold\"> 'process-data-dictionary'</span>\n</pre>\n"
     },
     "metadata": {},
     "output_type": "display_data"
    },
    {
     "data": {
      "text/plain": "12:23:47.947 | \u001B[36mINFO\u001B[0m    | Flow run\u001B[35m 'Preprocessing data dictionary'\u001B[0m - Cheatsheet not used\n",
      "text/html": "<pre style=\"white-space:pre;overflow-x:auto;line-height:normal;font-family:Menlo,'DejaVu Sans Mono',consolas,'Courier New',monospace\">12:23:47.947 | <span style=\"color: #008080; text-decoration-color: #008080\">INFO</span>    | Flow run<span style=\"color: #800080; text-decoration-color: #800080\"> 'Preprocessing data dictionary'</span> - Cheatsheet not used\n</pre>\n"
     },
     "metadata": {},
     "output_type": "display_data"
    },
    {
     "data": {
      "text/plain": "12:23:48.003 | \u001B[36mINFO\u001B[0m    | Flow run\u001B[35m 'Preprocessing data dictionary'\u001B[0m - Created task run 'Exploding values in columns to query with-0' for task 'Exploding values in columns to query with'\n",
      "text/html": "<pre style=\"white-space:pre;overflow-x:auto;line-height:normal;font-family:Menlo,'DejaVu Sans Mono',consolas,'Courier New',monospace\">12:23:48.003 | <span style=\"color: #008080; text-decoration-color: #008080\">INFO</span>    | Flow run<span style=\"color: #800080; text-decoration-color: #800080\"> 'Preprocessing data dictionary'</span> - Created task run 'Exploding values in columns to query with-0' for task 'Exploding values in columns to query with'\n</pre>\n"
     },
     "metadata": {},
     "output_type": "display_data"
    },
    {
     "data": {
      "text/plain": "12:23:48.006 | \u001B[36mINFO\u001B[0m    | Flow run\u001B[35m 'Preprocessing data dictionary'\u001B[0m - Executing 'Exploding values in columns to query with-0' immediately...\n",
      "text/html": "<pre style=\"white-space:pre;overflow-x:auto;line-height:normal;font-family:Menlo,'DejaVu Sans Mono',consolas,'Courier New',monospace\">12:23:48.006 | <span style=\"color: #008080; text-decoration-color: #008080\">INFO</span>    | Flow run<span style=\"color: #800080; text-decoration-color: #800080\"> 'Preprocessing data dictionary'</span> - Executing 'Exploding values in columns to query with-0' immediately...\n</pre>\n"
     },
     "metadata": {},
     "output_type": "display_data"
    },
    {
     "data": {
      "text/plain": "12:23:48.187 | \u001B[36mINFO\u001B[0m    | Task run 'Exploding values in columns to query with-0' - Finished in state \u001B[32mCompleted\u001B[0m()\n",
      "text/html": "<pre style=\"white-space:pre;overflow-x:auto;line-height:normal;font-family:Menlo,'DejaVu Sans Mono',consolas,'Courier New',monospace\">12:23:48.187 | <span style=\"color: #008080; text-decoration-color: #008080\">INFO</span>    | Task run 'Exploding values in columns to query with-0' - Finished in state <span style=\"color: #008000; text-decoration-color: #008000\">Completed</span>()\n</pre>\n"
     },
     "metadata": {},
     "output_type": "display_data"
    },
    {
     "data": {
      "text/plain": "12:23:48.297 | \u001B[36mINFO\u001B[0m    | Flow run\u001B[35m 'Preprocessing data dictionary'\u001B[0m - Created task run 'Removing punctuation-0' for task 'Removing punctuation'\n",
      "text/html": "<pre style=\"white-space:pre;overflow-x:auto;line-height:normal;font-family:Menlo,'DejaVu Sans Mono',consolas,'Courier New',monospace\">12:23:48.297 | <span style=\"color: #008080; text-decoration-color: #008080\">INFO</span>    | Flow run<span style=\"color: #800080; text-decoration-color: #800080\"> 'Preprocessing data dictionary'</span> - Created task run 'Removing punctuation-0' for task 'Removing punctuation'\n</pre>\n"
     },
     "metadata": {},
     "output_type": "display_data"
    },
    {
     "data": {
      "text/plain": "12:23:48.302 | \u001B[36mINFO\u001B[0m    | Flow run\u001B[35m 'Preprocessing data dictionary'\u001B[0m - Executing 'Removing punctuation-0' immediately...\n",
      "text/html": "<pre style=\"white-space:pre;overflow-x:auto;line-height:normal;font-family:Menlo,'DejaVu Sans Mono',consolas,'Courier New',monospace\">12:23:48.302 | <span style=\"color: #008080; text-decoration-color: #008080\">INFO</span>    | Flow run<span style=\"color: #800080; text-decoration-color: #800080\"> 'Preprocessing data dictionary'</span> - Executing 'Removing punctuation-0' immediately...\n</pre>\n"
     },
     "metadata": {},
     "output_type": "display_data"
    },
    {
     "data": {
      "text/plain": "12:23:48.526 | \u001B[36mINFO\u001B[0m    | Task run 'Removing punctuation-0' - Finished in state \u001B[32mCompleted\u001B[0m()\n",
      "text/html": "<pre style=\"white-space:pre;overflow-x:auto;line-height:normal;font-family:Menlo,'DejaVu Sans Mono',consolas,'Courier New',monospace\">12:23:48.526 | <span style=\"color: #008080; text-decoration-color: #008080\">INFO</span>    | Task run 'Removing punctuation-0' - Finished in state <span style=\"color: #008000; text-decoration-color: #008000\">Completed</span>()\n</pre>\n"
     },
     "metadata": {},
     "output_type": "display_data"
    },
    {
     "data": {
      "text/plain": "12:23:48.601 | \u001B[36mINFO\u001B[0m    | Flow run\u001B[35m 'Preprocessing data dictionary'\u001B[0m - Created task run 'Removing stopwords from query columns-0' for task 'Removing stopwords from query columns'\n",
      "text/html": "<pre style=\"white-space:pre;overflow-x:auto;line-height:normal;font-family:Menlo,'DejaVu Sans Mono',consolas,'Courier New',monospace\">12:23:48.601 | <span style=\"color: #008080; text-decoration-color: #008080\">INFO</span>    | Flow run<span style=\"color: #800080; text-decoration-color: #800080\"> 'Preprocessing data dictionary'</span> - Created task run 'Removing stopwords from query columns-0' for task 'Removing stopwords from query columns'\n</pre>\n"
     },
     "metadata": {},
     "output_type": "display_data"
    },
    {
     "data": {
      "text/plain": "12:23:48.604 | \u001B[36mINFO\u001B[0m    | Flow run\u001B[35m 'Preprocessing data dictionary'\u001B[0m - Executing 'Removing stopwords from query columns-0' immediately...\n",
      "text/html": "<pre style=\"white-space:pre;overflow-x:auto;line-height:normal;font-family:Menlo,'DejaVu Sans Mono',consolas,'Courier New',monospace\">12:23:48.604 | <span style=\"color: #008080; text-decoration-color: #008080\">INFO</span>    | Flow run<span style=\"color: #800080; text-decoration-color: #800080\"> 'Preprocessing data dictionary'</span> - Executing 'Removing stopwords from query columns-0' immediately...\n</pre>\n"
     },
     "metadata": {},
     "output_type": "display_data"
    },
    {
     "data": {
      "text/plain": "12:23:48.885 | \u001B[36mINFO\u001B[0m    | Task run 'Removing stopwords from query columns-0' - Finished in state \u001B[32mCompleted\u001B[0m()\n",
      "text/html": "<pre style=\"white-space:pre;overflow-x:auto;line-height:normal;font-family:Menlo,'DejaVu Sans Mono',consolas,'Courier New',monospace\">12:23:48.885 | <span style=\"color: #008080; text-decoration-color: #008080\">INFO</span>    | Task run 'Removing stopwords from query columns-0' - Finished in state <span style=\"color: #008000; text-decoration-color: #008000\">Completed</span>()\n</pre>\n"
     },
     "metadata": {},
     "output_type": "display_data"
    },
    {
     "data": {
      "text/plain": "12:23:48.890 | \u001B[36mINFO\u001B[0m    | Flow run\u001B[35m 'Preprocessing data dictionary'\u001B[0m - Processed Data Dictionary shape is: (3, 86)\n",
      "text/html": "<pre style=\"white-space:pre;overflow-x:auto;line-height:normal;font-family:Menlo,'DejaVu Sans Mono',consolas,'Courier New',monospace\">12:23:48.890 | <span style=\"color: #008080; text-decoration-color: #008080\">INFO</span>    | Flow run<span style=\"color: #800080; text-decoration-color: #800080\"> 'Preprocessing data dictionary'</span> - Processed Data Dictionary shape is: (3, 86)\n</pre>\n"
     },
     "metadata": {},
     "output_type": "display_data"
    },
    {
     "data": {
      "text/plain": "12:23:48.998 | \u001B[36mINFO\u001B[0m    | Flow run\u001B[35m 'flying-puffin'\u001B[0m - Finished in state \u001B[32mCompleted\u001B[0m()\n",
      "text/html": "<pre style=\"white-space:pre;overflow-x:auto;line-height:normal;font-family:Menlo,'DejaVu Sans Mono',consolas,'Courier New',monospace\">12:23:48.998 | <span style=\"color: #008080; text-decoration-color: #008080\">INFO</span>    | Flow run<span style=\"color: #800080; text-decoration-color: #800080\"> 'flying-puffin'</span> - Finished in state <span style=\"color: #008000; text-decoration-color: #008000\">Completed</span>()\n</pre>\n"
     },
     "metadata": {},
     "output_type": "display_data"
    },
    {
     "data": {
      "text/plain": "12:23:49.234 | \u001B[36mINFO\u001B[0m    | Flow run\u001B[35m '\u001B[0m\u001B[35mRunning\u001B[0m\u001B[35m UMLS/MetaMap/Semantic Search hydra search pipeline'\u001B[0m - Created subflow run\u001B[35m 'strong-trout'\u001B[0m for flow\u001B[1;35m 'format-curation-dataframe'\u001B[0m\n",
      "text/html": "<pre style=\"white-space:pre;overflow-x:auto;line-height:normal;font-family:Menlo,'DejaVu Sans Mono',consolas,'Courier New',monospace\">12:23:49.234 | <span style=\"color: #008080; text-decoration-color: #008080\">INFO</span>    | Flow run<span style=\"color: #800080; text-decoration-color: #800080\"> 'Running UMLS/MetaMap/Semantic Search hydra search pipeline'</span> - Created subflow run<span style=\"color: #800080; text-decoration-color: #800080\"> 'strong-trout'</span> for flow<span style=\"color: #800080; text-decoration-color: #800080; font-weight: bold\"> 'format-curation-dataframe'</span>\n</pre>\n"
     },
     "metadata": {},
     "output_type": "display_data"
    },
    {
     "data": {
      "text/plain": "12:23:49.438 | \u001B[36mINFO\u001B[0m    | Flow run\u001B[35m 'Formatting dataframe for curation'\u001B[0m - Created task run 'Subsetting dataframe with curation related columns-0' for task 'Subsetting dataframe with curation related columns'\n",
      "text/html": "<pre style=\"white-space:pre;overflow-x:auto;line-height:normal;font-family:Menlo,'DejaVu Sans Mono',consolas,'Courier New',monospace\">12:23:49.438 | <span style=\"color: #008080; text-decoration-color: #008080\">INFO</span>    | Flow run<span style=\"color: #800080; text-decoration-color: #800080\"> 'Formatting dataframe for curation'</span> - Created task run 'Subsetting dataframe with curation related columns-0' for task 'Subsetting dataframe with curation related columns'\n</pre>\n"
     },
     "metadata": {},
     "output_type": "display_data"
    },
    {
     "data": {
      "text/plain": "12:23:49.442 | \u001B[36mINFO\u001B[0m    | Flow run\u001B[35m 'Formatting dataframe for curation'\u001B[0m - Executing 'Subsetting dataframe with curation related columns-0' immediately...\n",
      "text/html": "<pre style=\"white-space:pre;overflow-x:auto;line-height:normal;font-family:Menlo,'DejaVu Sans Mono',consolas,'Courier New',monospace\">12:23:49.442 | <span style=\"color: #008080; text-decoration-color: #008080\">INFO</span>    | Flow run<span style=\"color: #800080; text-decoration-color: #800080\"> 'Formatting dataframe for curation'</span> - Executing 'Subsetting dataframe with curation related columns-0' immediately...\n</pre>\n"
     },
     "metadata": {},
     "output_type": "display_data"
    },
    {
     "data": {
      "text/plain": "12:23:49.639 | \u001B[36mINFO\u001B[0m    | Task run 'Subsetting dataframe with curation related columns-0' - Finished in state \u001B[32mCompleted\u001B[0m()\n",
      "text/html": "<pre style=\"white-space:pre;overflow-x:auto;line-height:normal;font-family:Menlo,'DejaVu Sans Mono',consolas,'Courier New',monospace\">12:23:49.639 | <span style=\"color: #008080; text-decoration-color: #008080\">INFO</span>    | Task run 'Subsetting dataframe with curation related columns-0' - Finished in state <span style=\"color: #008000; text-decoration-color: #008000\">Completed</span>()\n</pre>\n"
     },
     "metadata": {},
     "output_type": "display_data"
    },
    {
     "data": {
      "text/plain": "12:23:49.722 | \u001B[36mINFO\u001B[0m    | Flow run\u001B[35m 'Formatting dataframe for curation'\u001B[0m - Created task run 'Adding search_ID column-0' for task 'Adding search_ID column'\n",
      "text/html": "<pre style=\"white-space:pre;overflow-x:auto;line-height:normal;font-family:Menlo,'DejaVu Sans Mono',consolas,'Courier New',monospace\">12:23:49.722 | <span style=\"color: #008080; text-decoration-color: #008080\">INFO</span>    | Flow run<span style=\"color: #800080; text-decoration-color: #800080\"> 'Formatting dataframe for curation'</span> - Created task run 'Adding search_ID column-0' for task 'Adding search_ID column'\n</pre>\n"
     },
     "metadata": {},
     "output_type": "display_data"
    },
    {
     "data": {
      "text/plain": "12:23:49.725 | \u001B[36mINFO\u001B[0m    | Flow run\u001B[35m 'Formatting dataframe for curation'\u001B[0m - Executing 'Adding search_ID column-0' immediately...\n",
      "text/html": "<pre style=\"white-space:pre;overflow-x:auto;line-height:normal;font-family:Menlo,'DejaVu Sans Mono',consolas,'Courier New',monospace\">12:23:49.725 | <span style=\"color: #008080; text-decoration-color: #008080\">INFO</span>    | Flow run<span style=\"color: #800080; text-decoration-color: #800080\"> 'Formatting dataframe for curation'</span> - Executing 'Adding search_ID column-0' immediately...\n</pre>\n"
     },
     "metadata": {},
     "output_type": "display_data"
    },
    {
     "data": {
      "text/plain": "12:23:49.970 | \u001B[36mINFO\u001B[0m    | Task run 'Adding search_ID column-0' - Finished in state \u001B[32mCompleted\u001B[0m()\n",
      "text/html": "<pre style=\"white-space:pre;overflow-x:auto;line-height:normal;font-family:Menlo,'DejaVu Sans Mono',consolas,'Courier New',monospace\">12:23:49.970 | <span style=\"color: #008080; text-decoration-color: #008080\">INFO</span>    | Task run 'Adding search_ID column-0' - Finished in state <span style=\"color: #008000; text-decoration-color: #008000\">Completed</span>()\n</pre>\n"
     },
     "metadata": {},
     "output_type": "display_data"
    },
    {
     "data": {
      "text/plain": "12:23:50.028 | \u001B[36mINFO\u001B[0m    | Flow run\u001B[35m 'Formatting dataframe for curation'\u001B[0m - Created task run 'Adding search pipeline name column-0' for task 'Adding search pipeline name column'\n",
      "text/html": "<pre style=\"white-space:pre;overflow-x:auto;line-height:normal;font-family:Menlo,'DejaVu Sans Mono',consolas,'Courier New',monospace\">12:23:50.028 | <span style=\"color: #008080; text-decoration-color: #008080\">INFO</span>    | Flow run<span style=\"color: #800080; text-decoration-color: #800080\"> 'Formatting dataframe for curation'</span> - Created task run 'Adding search pipeline name column-0' for task 'Adding search pipeline name column'\n</pre>\n"
     },
     "metadata": {},
     "output_type": "display_data"
    },
    {
     "data": {
      "text/plain": "12:23:50.032 | \u001B[36mINFO\u001B[0m    | Flow run\u001B[35m 'Formatting dataframe for curation'\u001B[0m - Executing 'Adding search pipeline name column-0' immediately...\n",
      "text/html": "<pre style=\"white-space:pre;overflow-x:auto;line-height:normal;font-family:Menlo,'DejaVu Sans Mono',consolas,'Courier New',monospace\">12:23:50.032 | <span style=\"color: #008080; text-decoration-color: #008080\">INFO</span>    | Flow run<span style=\"color: #800080; text-decoration-color: #800080\"> 'Formatting dataframe for curation'</span> - Executing 'Adding search pipeline name column-0' immediately...\n</pre>\n"
     },
     "metadata": {},
     "output_type": "display_data"
    },
    {
     "data": {
      "text/plain": "12:23:50.215 | \u001B[36mINFO\u001B[0m    | Task run 'Adding search pipeline name column-0' - Finished in state \u001B[32mCompleted\u001B[0m()\n",
      "text/html": "<pre style=\"white-space:pre;overflow-x:auto;line-height:normal;font-family:Menlo,'DejaVu Sans Mono',consolas,'Courier New',monospace\">12:23:50.215 | <span style=\"color: #008080; text-decoration-color: #008080\">INFO</span>    | Task run 'Adding search pipeline name column-0' - Finished in state <span style=\"color: #008000; text-decoration-color: #008000\">Completed</span>()\n</pre>\n"
     },
     "metadata": {},
     "output_type": "display_data"
    },
    {
     "data": {
      "text/plain": "12:23:50.321 | \u001B[36mINFO\u001B[0m    | Flow run\u001B[35m 'strong-trout'\u001B[0m - Finished in state \u001B[32mCompleted\u001B[0m()\n",
      "text/html": "<pre style=\"white-space:pre;overflow-x:auto;line-height:normal;font-family:Menlo,'DejaVu Sans Mono',consolas,'Courier New',monospace\">12:23:50.321 | <span style=\"color: #008080; text-decoration-color: #008080\">INFO</span>    | Flow run<span style=\"color: #800080; text-decoration-color: #800080\"> 'strong-trout'</span> - Finished in state <span style=\"color: #008000; text-decoration-color: #008000\">Completed</span>()\n</pre>\n"
     },
     "metadata": {},
     "output_type": "display_data"
    },
    {
     "data": {
      "text/plain": "12:23:50.391 | \u001B[36mINFO\u001B[0m    | Flow run\u001B[35m '\u001B[0m\u001B[35mRunning\u001B[0m\u001B[35m UMLS/MetaMap/Semantic Search hydra search pipeline'\u001B[0m - Created task run 'Creating curation file-0' for task 'Creating curation file'\n",
      "text/html": "<pre style=\"white-space:pre;overflow-x:auto;line-height:normal;font-family:Menlo,'DejaVu Sans Mono',consolas,'Courier New',monospace\">12:23:50.391 | <span style=\"color: #008080; text-decoration-color: #008080\">INFO</span>    | Flow run<span style=\"color: #800080; text-decoration-color: #800080\"> 'Running UMLS/MetaMap/Semantic Search hydra search pipeline'</span> - Created task run 'Creating curation file-0' for task 'Creating curation file'\n</pre>\n"
     },
     "metadata": {},
     "output_type": "display_data"
    },
    {
     "data": {
      "text/plain": "12:23:50.394 | \u001B[36mINFO\u001B[0m    | Flow run\u001B[35m '\u001B[0m\u001B[35mRunning\u001B[0m\u001B[35m UMLS/MetaMap/Semantic Search hydra search pipeline'\u001B[0m - Executing 'Creating curation file-0' immediately...\n",
      "text/html": "<pre style=\"white-space:pre;overflow-x:auto;line-height:normal;font-family:Menlo,'DejaVu Sans Mono',consolas,'Courier New',monospace\">12:23:50.394 | <span style=\"color: #008080; text-decoration-color: #008080\">INFO</span>    | Flow run<span style=\"color: #800080; text-decoration-color: #800080\"> 'Running UMLS/MetaMap/Semantic Search hydra search pipeline'</span> - Executing 'Creating curation file-0' immediately...\n</pre>\n"
     },
     "metadata": {},
     "output_type": "display_data"
    },
    {
     "data": {
      "text/plain": "12:23:50.582 | \u001B[36mINFO\u001B[0m    | Task run 'Creating curation file-0' - The following columns were not found and will be excluded: ['query_term_used_col', 'searchType', 'query_term_used']\n",
      "text/html": "<pre style=\"white-space:pre;overflow-x:auto;line-height:normal;font-family:Menlo,'DejaVu Sans Mono',consolas,'Courier New',monospace\">12:23:50.582 | <span style=\"color: #008080; text-decoration-color: #008080\">INFO</span>    | Task run 'Creating curation file-0' - The following columns were not found and will be excluded: ['query_term_used_col', 'searchType', 'query_term_used']\n</pre>\n"
     },
     "metadata": {},
     "output_type": "display_data"
    },
    {
     "data": {
      "text/plain": "12:23:52.998 | \u001B[36mINFO\u001B[0m    | Task run 'Creating curation file-0' - Finished in state \u001B[32mCompleted\u001B[0m()\n",
      "text/html": "<pre style=\"white-space:pre;overflow-x:auto;line-height:normal;font-family:Menlo,'DejaVu Sans Mono',consolas,'Courier New',monospace\">12:23:52.998 | <span style=\"color: #008080; text-decoration-color: #008080\">INFO</span>    | Task run 'Creating curation file-0' - Finished in state <span style=\"color: #008000; text-decoration-color: #008000\">Completed</span>()\n</pre>\n"
     },
     "metadata": {},
     "output_type": "display_data"
    },
    {
     "data": {
      "text/plain": "12:23:53.047 | \u001B[36mINFO\u001B[0m    | Flow run\u001B[35m '\u001B[0m\u001B[35mRunning\u001B[0m\u001B[35m UMLS/MetaMap/Semantic Search hydra search pipeline'\u001B[0m - Created task run 'Saving config file-0' for task 'Saving config file'\n",
      "text/html": "<pre style=\"white-space:pre;overflow-x:auto;line-height:normal;font-family:Menlo,'DejaVu Sans Mono',consolas,'Courier New',monospace\">12:23:53.047 | <span style=\"color: #008080; text-decoration-color: #008080\">INFO</span>    | Flow run<span style=\"color: #800080; text-decoration-color: #800080\"> 'Running UMLS/MetaMap/Semantic Search hydra search pipeline'</span> - Created task run 'Saving config file-0' for task 'Saving config file'\n</pre>\n"
     },
     "metadata": {},
     "output_type": "display_data"
    },
    {
     "data": {
      "text/plain": "12:23:53.050 | \u001B[36mINFO\u001B[0m    | Flow run\u001B[35m '\u001B[0m\u001B[35mRunning\u001B[0m\u001B[35m UMLS/MetaMap/Semantic Search hydra search pipeline'\u001B[0m - Executing 'Saving config file-0' immediately...\n",
      "text/html": "<pre style=\"white-space:pre;overflow-x:auto;line-height:normal;font-family:Menlo,'DejaVu Sans Mono',consolas,'Courier New',monospace\">12:23:53.050 | <span style=\"color: #008080; text-decoration-color: #008080\">INFO</span>    | Flow run<span style=\"color: #800080; text-decoration-color: #800080\"> 'Running UMLS/MetaMap/Semantic Search hydra search pipeline'</span> - Executing 'Saving config file-0' immediately...\n</pre>\n"
     },
     "metadata": {},
     "output_type": "display_data"
    },
    {
     "data": {
      "text/plain": "12:23:53.206 | \u001B[36mINFO\u001B[0m    | Task run 'Saving config file-0' - Saving config file\n",
      "text/html": "<pre style=\"white-space:pre;overflow-x:auto;line-height:normal;font-family:Menlo,'DejaVu Sans Mono',consolas,'Courier New',monospace\">12:23:53.206 | <span style=\"color: #008080; text-decoration-color: #008080\">INFO</span>    | Task run 'Saving config file-0' - Saving config file\n</pre>\n"
     },
     "metadata": {},
     "output_type": "display_data"
    },
    {
     "data": {
      "text/plain": "12:23:53.292 | \u001B[36mINFO\u001B[0m    | Task run 'Saving config file-0' - Finished in state \u001B[32mCompleted\u001B[0m()\n",
      "text/html": "<pre style=\"white-space:pre;overflow-x:auto;line-height:normal;font-family:Menlo,'DejaVu Sans Mono',consolas,'Courier New',monospace\">12:23:53.292 | <span style=\"color: #008080; text-decoration-color: #008080\">INFO</span>    | Task run 'Saving config file-0' - Finished in state <span style=\"color: #008000; text-decoration-color: #008000\">Completed</span>()\n</pre>\n"
     },
     "metadata": {},
     "output_type": "display_data"
    },
    {
     "data": {
      "text/plain": "12:23:53.295 | \u001B[36mINFO\u001B[0m    | Flow run\u001B[35m '\u001B[0m\u001B[35mRunning\u001B[0m\u001B[35m UMLS/MetaMap/Semantic Search hydra search pipeline'\u001B[0m - FINISHED batch hydra search query pipeline!!!\n",
      "text/html": "<pre style=\"white-space:pre;overflow-x:auto;line-height:normal;font-family:Menlo,'DejaVu Sans Mono',consolas,'Courier New',monospace\">12:23:53.295 | <span style=\"color: #008080; text-decoration-color: #008080\">INFO</span>    | Flow run<span style=\"color: #800080; text-decoration-color: #800080\"> 'Running UMLS/MetaMap/Semantic Search hydra search pipeline'</span> - FINISHED batch hydra search query pipeline!!!\n</pre>\n"
     },
     "metadata": {},
     "output_type": "display_data"
    },
    {
     "data": {
      "text/plain": "12:23:53.361 | \u001B[36mINFO\u001B[0m    | Flow run\u001B[35m 'elite-skunk'\u001B[0m - Finished in state \u001B[32mCompleted\u001B[0m()\n",
      "text/html": "<pre style=\"white-space:pre;overflow-x:auto;line-height:normal;font-family:Menlo,'DejaVu Sans Mono',consolas,'Courier New',monospace\">12:23:53.361 | <span style=\"color: #008080; text-decoration-color: #008080\">INFO</span>    | Flow run<span style=\"color: #800080; text-decoration-color: #800080\"> 'elite-skunk'</span> - Finished in state <span style=\"color: #008000; text-decoration-color: #008000\">Completed</span>()\n</pre>\n"
     },
     "metadata": {},
     "output_type": "display_data"
    },
    {
     "name": "stdout",
     "output_type": "stream",
     "text": [
      "  variable name         title  \\\n",
      "0        AgeYrs  Age in years   \n",
      "1        AgeYrs  Age in years   \n",
      "2        AgeYrs  Age in years   \n",
      "3        AgeYrs  Age in years   \n",
      "4        AgeYrs  Age in years   \n",
      "\n",
      "                                          definition permissible values  \\\n",
      "0  Value for participant's subject age, calculate...                NaN   \n",
      "1  Value for participant's subject age, calculate...                NaN   \n",
      "2  Value for participant's subject age, calculate...                NaN   \n",
      "3  Value for participant's subject age, calculate...                NaN   \n",
      "4  Value for participant's subject age, calculate...                NaN   \n",
      "\n",
      "  permissible value descriptions             preferred question text  \\\n",
      "0                            NaN  Subject's age (recorded in years):   \n",
      "1                            NaN  Subject's age (recorded in years):   \n",
      "2                            NaN  Subject's age (recorded in years):   \n",
      "3                            NaN  Subject's age (recorded in years):   \n",
      "4                            NaN  Subject's age (recorded in years):   \n",
      "\n",
      "   search_ID        pipeline_name title_extracted  query_term_1  ...  \\\n",
      "0          1  metamap (custom=de)    Age in years  age in years  ...   \n",
      "1          1  metamap (custom=de)    Age in years  age in years  ...   \n",
      "2          1  metamap (custom=de)    Age in years  age in years  ...   \n",
      "3          1  metamap (custom=de)    Age in years  age in years  ...   \n",
      "4          1  metamap (custom=de)    Age in years  age in years  ...   \n",
      "\n",
      "  pipeline_name_alpha result_id semantic_type  definition_source  \\\n",
      "0                 NaN       NaN           NaN                NaN   \n",
      "1                 NaN       NaN           NaN                NaN   \n",
      "2                 NaN       NaN           NaN                NaN   \n",
      "3                 NaN       NaN           NaN                NaN   \n",
      "4                 NaN       NaN           NaN                NaN   \n",
      "\n",
      "   overall_count average_score title_str_rank title_str_score  \\\n",
      "0            NaN           NaN            NaN             NaN   \n",
      "1            NaN           NaN            NaN             NaN   \n",
      "2            NaN           NaN            NaN             NaN   \n",
      "3            NaN           NaN            NaN             NaN   \n",
      "4            NaN           NaN            NaN             NaN   \n",
      "\n",
      "  definition_def_rank definition_def_score  \n",
      "0                 NaN                  NaN  \n",
      "1                 NaN                  NaN  \n",
      "2                 NaN                  NaN  \n",
      "3                 NaN                  NaN  \n",
      "4                 NaN                  NaN  \n",
      "\n",
      "[5 rows x 51 columns]\n"
     ]
    }
   ],
   "source": [
    "# df_umls, cfg_umls = umls_bqp.run_umls_batch(cfg_umls)\n",
    "# df_mm, cfg_mm = mm_bqp.run_mm_batch(cfg_mm)\n",
    "# df_ss, cfg_ss = ss_bqp.run_hybrid_ss_batch(cfg_ss)\n",
    "df_hydra, cfg_step1 = hs_bqp.run_hydra_batch(cfg_hydra, cfg_umls=None, cfg_mm=cfg_mm, cfg_ss=cfg_ss)\n",
    "\n",
    "print(df_hydra.head())"
   ]
  },
  {
   "cell_type": "markdown",
   "metadata": {},
   "source": [
    "### STEP-1B: *MANUAL CURATION STEP IN EXCEL\n",
    "*see curation example in ***notebooks/examples_files/DE_Step-1_curation_keepCol.xlsx***"
   ]
  },
  {
   "cell_type": "markdown",
   "source": [
    "### STEP-2A: CREATE DATA DICTIONARY IMPORT FILE"
   ],
   "metadata": {
    "collapsed": false
   }
  },
  {
   "cell_type": "markdown",
   "metadata": {},
   "source": [
    "###### IMPORT CURATION PACKAGE"
   ]
  },
  {
   "cell_type": "code",
   "execution_count": 16,
   "metadata": {
    "tags": [],
    "ExecuteTime": {
     "end_time": "2023-05-17T15:39:18.311517700Z",
     "start_time": "2023-05-17T15:39:18.294743100Z"
    }
   },
   "outputs": [],
   "source": [
    "from ddcuimap.curation import create_dictionary_import_file\n",
    "from ddcuimap.curation import check_cuis\n",
    "from ddcuimap.utils import helper"
   ]
  },
  {
   "cell_type": "markdown",
   "metadata": {},
   "source": [
    "###### CREATE DATA DICTIONARY IMPORT FILE"
   ]
  },
  {
   "cell_type": "code",
   "execution_count": null,
   "metadata": {
    "tags": []
   },
   "outputs": [],
   "source": [
    "cfg_step1 = helper.load_config.fn(helper.choose_file(\"Load config file from Step 1\"))\n",
    "df_dd = create_dictionary_import_file.create_dd_file(cfg_step1)\n",
    "print(df_dd.head())"
   ]
  },
  {
   "cell_type": "markdown",
   "metadata": {},
   "source": [
    "#### STEP-2B: CHECK CUIS IN DATA DICTIONARY IMPORT FILE"
   ]
  },
  {
   "cell_type": "code",
   "execution_count": null,
   "metadata": {},
   "outputs": [],
   "source": [
    "cfg_step2 = helper.load_config.fn(helper.choose_file(\"Load config file from Step 2\"))\n",
    "df_check = check_cuis.check_cuis(cfg_step2)\n",
    "print(df_check.head())"
   ]
  }
 ],
 "metadata": {
  "kernelspec": {
   "display_name": "Python 3 (ipykernel)",
   "language": "python",
   "name": "python3"
  },
  "language_info": {
   "codemirror_mode": {
    "name": "ipython",
    "version": 3
   },
   "file_extension": ".py",
   "mimetype": "text/x-python",
   "name": "python",
   "nbconvert_exporter": "python",
   "pygments_lexer": "ipython3",
   "version": "3.11.1"
  }
 },
 "nbformat": 4,
 "nbformat_minor": 4
}
